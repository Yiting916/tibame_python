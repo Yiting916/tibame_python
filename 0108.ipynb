{
  "nbformat": 4,
  "nbformat_minor": 0,
  "metadata": {
    "colab": {
      "provenance": [],
      "authorship_tag": "ABX9TyO2nxx7qIT3+J5TQZQFCwCf",
      "include_colab_link": true
    },
    "kernelspec": {
      "name": "python3",
      "display_name": "Python 3"
    },
    "language_info": {
      "name": "python"
    }
  },
  "cells": [
    {
      "cell_type": "markdown",
      "metadata": {
        "id": "view-in-github",
        "colab_type": "text"
      },
      "source": [
        "<a href=\"https://colab.research.google.com/github/Yiting916/tibame_python/blob/main/0108.ipynb\" target=\"_parent\"><img src=\"https://colab.research.google.com/assets/colab-badge.svg\" alt=\"Open In Colab\"/></a>"
      ]
    },
    {
      "cell_type": "markdown",
      "source": [
        "# HTML格式簡介\n",
        "\n",
        "``` Python\n",
        "HTML格式\n",
        "\n",
        "長方形區塊構成, 一個包含一個\n",
        "\n",
        "<a href=\"網址\"> -> start\n",
        "\n",
        "</a> -> end\n",
        "\n",
        "1. 名字: 決定它的功能\n",
        "  !!! 開始和結束都寫一遍\n",
        "  a: 超連結\n",
        "  img/video: 圖片/影片\n",
        "\n",
        "2. 屬性: 決定這個特別區塊的一些細微屬性\n",
        "  !!! 寫在開頭的位置\n",
        "  !!! 屬性名=\"value\"\n",
        "  a href=\"網址\"\n",
        "  img/video src=\"網址\"\n",
        "\n",
        "3. 內容: 顯示文字\n",
        "  !!! 寫在開始和結束之間\n",
        "網頁由三個東西構成(網頁前端):\n",
        "1. 內容(main): HTML\n",
        "2. 排版: CSS\n",
        "3. 動態: JavsScript語法\n",
        "  !!! 某個動作觸發了某些程式碼, 最後送出一個網址去得到更多東西\n",
        "  !!! 但我們care的是那個網址, 很少很少很少妳會真的想知道她怎麼觸發的\n",
        "  !!! 所以動態對你而言不需要認真研究\n",
        "CSS語法: 選到妳要排版的區塊, 加上排版\n",
        "1. 利用區塊的名字:\n",
        "a{\n",
        "    名:值\n",
        "}\n",
        "!!! 但大部分時間我不是要選所有的超連結\n",
        "!!! 以我們上面介紹的HTML, 我是分不出來特定的超連結\n",
        "!!! 所以我們會特別在HTML區塊上, 加上特別的屬性\n",
        "!!! 這特別的屬性是為了排版而生, 讓我可以分出這些區塊\n",
        "!!! 兩個特別屬性\n",
        "!!! class=\"分類1 分類2 分類3\"\n",
        "\n",
        "2. 利用分類(class)屬性\n",
        "(e.g. class=\"good bad\"\n",
        ".good{\n",
        "}\n",
        "\n",
        "!!! id=\"身分證\"\n",
        "3. 針對id屬性\n",
        "(e.g. id=\"abc\")\n",
        "#abc{\n",
        "}\n",
        "a{\n",
        "    background-color:red;\n",
        "}\n",
        "\n",
        "# 10px 20px\n",
        ".js-thumbnail-img {\n",
        "    border-radius: 50%;\n",
        "}\n",
        "```\n",
        "\n",
        "\n",
        "\n"
      ],
      "metadata": {
        "id": "Esf464YDuE4S"
      }
    },
    {
      "cell_type": "code",
      "source": [
        "# https://tabelog.com/tw/tokyo/rstLst/?SrtT=rt\n",
        "# https://tabelog.com/tw/tokyo/rstLst/1/?SrtT=rt\n",
        "import urllib.request as req\n",
        "# beautifulsoup4\n",
        "import bs4 as bs\n",
        "\n",
        "url = \"https://tabelog.com/tw/tokyo/rstLst/1/?SrtT=rt\"\n",
        "response = req.urlopen(url)\n",
        "# content = response.read()\n",
        "# json.loads做型態轉換\n",
        "html = bs.BeautifulSoup(response)\n",
        "# 區塊形態: 兩個專屬功能\n",
        "# find 找第一個 find_all 找所有\n",
        "# 參數1: html名字 參數2: 篩選條件\n",
        "link = html.find(\"a\", {\"class\":\"list-rst__rst-name-target\"})\n",
        "print(link)\n",
        "# 找到妳想要的區塊以後, 妳會想要萃取\n",
        "# 1. 特殊屬性(字典): link[\"href\"]\n",
        "# 2. 內容(專屬值): link.text\n",
        "# 程式語言基本概念: 一個形態可以擁有兩種東西\n",
        "# a. 專屬功能: 形態.功能() -> 人.吃飯(1hour)\n",
        "# b. 專屬值: 形態.值 -> 人.姓名\n",
        "print(link[\"href\"])\n",
        "print(link.text)"
      ],
      "metadata": {
        "id": "P3tNaDIFt-6R"
      },
      "execution_count": null,
      "outputs": []
    },
    {
      "cell_type": "code",
      "execution_count": null,
      "metadata": {
        "id": "Rys1uPvFrJq6"
      },
      "outputs": [],
      "source": [
        "#----- 利用 beautifulsoup4 到 tablelog 網頁上取東京餐廳的店名和網址\n",
        "\n",
        "# beautifulsoup4 doc:https://www.crummy.com/software/BeautifulSoup/bs4/doc/\n",
        "# https://tabelog.com/tw/tokyo/rstLst/?SrtT=rt\n",
        "# https://tabelog.com/tw/tokyo/rstLst/1/?SrtT=rt\n",
        "\n",
        "import urllib.request as req\n",
        "# beautifulsoup4\n",
        "import bs4 as bs\n",
        "\n",
        "page=1\n",
        "while True:\n",
        "  url = \"https://tabelog.com/tw/tokyo/rstLst/{}/?SrtT=rt\".format(page)\n",
        "  page+=1\n",
        "  response = req.urlopen(url)\n",
        "  # content = response.read()\n",
        "  # json.loads做型態轉換\n",
        "  html = bs.BeautifulSoup(response)\n",
        "\n",
        "  #取餐廳資料\n",
        "  r_list=html.find_all(\"div\",{\"class\":\"list-rst__body\"})  # find_all 回傳類似list的型態\n",
        "  #當一個餐廳都沒有時, 則代表沒有下一頁了\n",
        "  if len(r_list)==0:\n",
        "    break\n",
        "  else:\n",
        "    print(\"頁數: \",page)\n",
        "\n",
        "  for r in r_list:\n",
        "    #1.店名&網址\n",
        "    name=r.find(\"a\",{\"class\":\"list-rst__rst-name-target\"})\n",
        "    name_href=en_name[\"href\"]\n",
        "    name_text=en_name.text\n",
        "    #2.地址\n",
        "    addr=r.find(\"div\",{\"class\":\"list-rst__area-genre\"})\n",
        "    addr_text=addr.text.strip()\n",
        "    #3.簡述\n",
        "    desc=r.find(\"p\",{\"class\":\"ist-rst__pr-title\"})\n",
        "    if desc==None:\n",
        "      desc_text=\"-\"\n",
        "    else:\n",
        "      desc_text=desc.text.strip()\n",
        "    #4.評價\n",
        "    rating=r.find(\"span\",{\"class\":\"c-rating__val\"})\n",
        "    rating_text=rating.text\n",
        "    #5.晚間價錢\n",
        "    price=r.find_all(\"span\",{\"class\":\"c-rating-v3__val\"})\n",
        "    price_dinner=price[0].text\n",
        "    # if price_dinner==\"-\":\n",
        "    #   price_dinner=\"無\"\n",
        "    #6.午間價錢\n",
        "    price_lunch=price[1].text\n",
        "    # if price_lunch==\"-\":\n",
        "    #   price_lunch=\"無\"\n",
        "    #7.休息日\n",
        "    holiday=r.find(\"span\",{\"class\":\"list-rst__holiday-text\"})\n",
        "    holiday_text=holiday.text\n",
        "    # if holiday_text==\"-\":\n",
        "    #   holiday_text=\"無\"\n",
        "\n",
        "    print(rating_text)\n",
        "    print(name_text)\n",
        "    print(name_href)\n",
        "    print(addr_text)\n",
        "    print(desc_text)\n",
        "    print(holiday_text)\n",
        "    print(\"晚：\", price_dinner, \"/ 午：\", price_lunch)\n",
        "    print(\"-\"*30)\n",
        "\n"
      ]
    },
    {
      "cell_type": "code",
      "source": [
        "#------ 好用的字串專屬功能(method): replace split join strip\n",
        "# replace\n",
        "s=\"Hello\"*5\n",
        "b=s.replace(\"Hello\", \"Bye\", 2)\n",
        "print(b)\n",
        "print(s)\n",
        "\n",
        "# split & join\n",
        "b=\"2025-01-08\".split(\"-\")\n",
        "print(b)\n",
        "print(\"/\".join(b))\n"
      ],
      "metadata": {
        "colab": {
          "base_uri": "https://localhost:8080/"
        },
        "id": "pjTJuYApAXmx",
        "outputId": "81fb5a83-65df-4c7c-aabe-dc7e4b576cde"
      },
      "execution_count": null,
      "outputs": [
        {
          "output_type": "stream",
          "name": "stdout",
          "text": [
            "ByeByeHelloHelloHello\n",
            "HelloHelloHelloHelloHello\n",
            "['2025', '01', '08']\n",
            "2025/01/08\n"
          ]
        }
      ]
    },
    {
      "cell_type": "code",
      "source": [
        "#------ list 的專屬功能：append\n",
        "# 因為要符合直覺, 當對清單做操作時, 會直接更改同一份清單內容(不會變成兩個list)\n",
        "scores=[20,30]\n",
        "b=scores.append(99)\n",
        "#[20,30,99]\n",
        "print(scores)\n",
        "#None (list 直接被修改了, 並不會回傳任何東西, 所以是 None)\n",
        "#scores=scores.append(99) --> 錯誤! 這樣等於是直接把 scores 設定為 None 了\n",
        "print(b)"
      ],
      "metadata": {
        "colab": {
          "base_uri": "https://localhost:8080/"
        },
        "id": "pYPDxmEg47VE",
        "outputId": "159025ae-0eae-4dc8-da40-ce6aab2cc418"
      },
      "execution_count": null,
      "outputs": [
        {
          "output_type": "stream",
          "name": "stdout",
          "text": [
            "[20, 30, 99]\n",
            "None\n"
          ]
        }
      ]
    }
  ]
}