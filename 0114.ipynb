{
  "nbformat": 4,
  "nbformat_minor": 0,
  "metadata": {
    "colab": {
      "provenance": [],
      "authorship_tag": "ABX9TyNPzMHmrG0V/jr6zRHN6wt/",
      "include_colab_link": true
    },
    "kernelspec": {
      "name": "python3",
      "display_name": "Python 3"
    },
    "language_info": {
      "name": "python"
    }
  },
  "cells": [
    {
      "cell_type": "markdown",
      "metadata": {
        "id": "view-in-github",
        "colab_type": "text"
      },
      "source": [
        "<a href=\"https://colab.research.google.com/github/Yiting916/tibame_python/blob/main/0114.ipynb\" target=\"_parent\"><img src=\"https://colab.research.google.com/assets/colab-badge.svg\" alt=\"Open In Colab\"/></a>"
      ]
    },
    {
      "cell_type": "markdown",
      "source": [
        "# HTTP 代碼\n",
        "\n",
        "\n",
        "``` Python\n",
        "2 開頭：成功\n",
        "3 開頭：轉址。對面的網址搬家了, 雖然你輸入的是舊網址, 他還是會自動幫你轉到新網址\n",
        "4 開頭：錯誤\n",
        "404 Not found: 最常見。網址打錯。\n",
        "403 Forbidden:\n",
        "(1) IP 被 ban 掉: 可能有數次的惡意行為(短時間送出太多次req.) -> 解法: 等待或換IP\n",
        "(2) 行為被懷疑是一個程式 -> 解法: 學得像瀏覽器一點(把header完善)\n",
        "```\n",
        "\n"
      ],
      "metadata": {
        "id": "6OHYo3YiWfDV"
      }
    },
    {
      "cell_type": "markdown",
      "source": [
        "# Header\n",
        "\n",
        "\n",
        "```Python\n",
        "你在送出網址時, 其實不只是送出網址而已\n",
        "你送出的是: 網址+額外訊息(request header)\n",
        "\n",
        "你在得到回應的時候, 其實不只有得到回應\n",
        "你收到的是: 回應+額外訊息(response header)\n",
        "```\n",
        "\n"
      ],
      "metadata": {
        "id": "0mEVDhfOYfUH"
      }
    },
    {
      "cell_type": "markdown",
      "source": [
        "# 檔案處理\n",
        "\n",
        "\n",
        "``` Python\n",
        "1. 純文字(text)\n",
        "open(...., \"r\" or \"w\", encoding = \"utf-8\")\n",
        "2. 非純文字(圖片, pdf, doc...)\n",
        "open(...., \"rb\" or \"wb\")\n",
        "```\n",
        "\n"
      ],
      "metadata": {
        "id": "pggjdmibjkhT"
      }
    },
    {
      "cell_type": "code",
      "execution_count": 13,
      "metadata": {
        "id": "XvAq1SYcV_2k"
      },
      "outputs": [],
      "source": [
        "import urllib.request as req\n",
        "import bs4 as bs\n",
        "\n",
        "url = \"https://www.ptt.cc/bbs/Beauty/M.1736755829.A.02A.html\"\n",
        "r = req.Request(url)\n",
        "# 先加 header 資訊, 假裝是瀏覽器\n",
        "r.add_header(\"User-Agent\", \"Mozilla/5.0 (Macintosh; Intel Mac OS X 10_15_7) AppleWebKit/537.36 (KHTML, like Gecko) Chrome/131.0.0.0 Safari/537.36\")\n",
        "response = req.urlopen(r)\n",
        "# 用bs4解析出原始碼\n",
        "html = bs.BeautifulSoup(response)\n",
        "\n",
        "# 篩選出網址結尾為圖檔副檔名的\n",
        "allow_subname = [\"jpg\", \"jpeg\", \"png\", \"gif\"]\n",
        "links = html.find_all(\"a\")\n",
        "for l in links:\n",
        "  href = l[\"href\"]\n",
        "  subname = href.split(\".\")[-1]\n",
        "  if subname.lower() in allow_subname:\n",
        "    r = req.Request(href)\n",
        "    r.add_header(\"User-Agent\", \"Mozilla/5.0 (Macintosh; Intel Mac OS X 10_15_7) AppleWebKit/537.36 (KHTML, like Gecko) Chrome/131.0.0.0 Safari/537.36\")\n",
        "    img = req.urlopen(r)\n",
        "    # open 一個新檔案來儲存\n",
        "    fname = href.split(\"/\")[-1]\n",
        "    f = open(fname, \"wb\")\n",
        "    f.write(img.read())\n",
        "    f.close()"
      ]
    }
  ]
}