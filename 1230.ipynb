{
  "nbformat": 4,
  "nbformat_minor": 0,
  "metadata": {
    "colab": {
      "provenance": [],
      "authorship_tag": "ABX9TyPn5p0gEGemt+IXGYVI6lcz",
      "include_colab_link": true
    },
    "kernelspec": {
      "name": "python3",
      "display_name": "Python 3"
    },
    "language_info": {
      "name": "python"
    }
  },
  "cells": [
    {
      "cell_type": "markdown",
      "metadata": {
        "id": "view-in-github",
        "colab_type": "text"
      },
      "source": [
        "<a href=\"https://colab.research.google.com/github/Yiting916/tibame_python/blob/main/1230.ipynb\" target=\"_parent\"><img src=\"https://colab.research.google.com/assets/colab-badge.svg\" alt=\"Open In Colab\"/></a>"
      ]
    },
    {
      "cell_type": "code",
      "execution_count": null,
      "metadata": {
        "colab": {
          "base_uri": "https://localhost:8080/"
        },
        "id": "P1l9QfvfIUhu",
        "outputId": "24b83f2f-97cf-47e0-d6c7-4b4ccfa67836"
      },
      "outputs": [
        {
          "output_type": "stream",
          "name": "stdout",
          "text": [
            "0\n",
            "1\n",
            "2\n",
            "3\n",
            "4\n",
            "5\n",
            "6\n",
            "7\n",
            "8\n",
            "9\n"
          ]
        }
      ],
      "source": [
        "# while 迴圈\n",
        "# 萬用公式 (同類型題目, 盡量套用固定的公式, 再基於公式上面做修改, 這樣才會熟練得快)\n",
        "i=0\n",
        "while i<10:\n",
        "  print(i)\n",
        "  i+=1"
      ]
    },
    {
      "cell_type": "code",
      "source": [
        "# 變化型 (數列間隔多少, 就*多少再+第一個起始數字)\n",
        "i=0\n",
        "while i<10:\n",
        "  print(5+i,\n",
        "        2*i+1,\n",
        "        50-3*i)\n",
        "  i+=1"
      ],
      "metadata": {
        "colab": {
          "base_uri": "https://localhost:8080/"
        },
        "id": "rPjJjLHNWikk",
        "outputId": "e936f736-237f-4297-a886-5b7473acd173"
      },
      "execution_count": null,
      "outputs": [
        {
          "output_type": "stream",
          "name": "stdout",
          "text": [
            "5 1 50\n",
            "6 3 47\n",
            "7 5 44\n",
            "8 7 41\n",
            "9 9 38\n",
            "10 11 35\n",
            "11 13 32\n",
            "12 15 29\n",
            "13 17 26\n",
            "14 19 23\n"
          ]
        }
      ]
    },
    {
      "cell_type": "code",
      "source": [
        "#印出靠左的三角形\n",
        "i=0\n",
        "while i<10:\n",
        "  print(\"*\"*(i+1))\n",
        "  i+=1"
      ],
      "metadata": {
        "colab": {
          "base_uri": "https://localhost:8080/"
        },
        "id": "xxvAzmJnb6TB",
        "outputId": "a6d47b2e-050d-40a5-fe92-1e919e28bca8"
      },
      "execution_count": null,
      "outputs": [
        {
          "output_type": "stream",
          "name": "stdout",
          "text": [
            "*\n",
            "**\n",
            "***\n",
            "****\n",
            "*****\n",
            "******\n",
            "*******\n",
            "********\n",
            "*********\n",
            "**********\n"
          ]
        }
      ]
    },
    {
      "cell_type": "code",
      "source": [
        "#印出靠右的三角形\n",
        "i=0\n",
        "layer=10\n",
        "lsymbol, rsymbol=\" \", \"o\"\n",
        "while i<layer:\n",
        "  lcount=layer-i-1  # lsymbol減少的個數就是rsymbol增加的個數\n",
        "  rcount=i+1\n",
        "  print(lsymbol*lcount+\n",
        "        rsymbol*rcount)\n",
        "  i+=1"
      ],
      "metadata": {
        "colab": {
          "base_uri": "https://localhost:8080/"
        },
        "id": "lRPPhrRvcqEy",
        "outputId": "2c133d5d-74d2-4db8-fbff-62256c53a722"
      },
      "execution_count": null,
      "outputs": [
        {
          "output_type": "stream",
          "name": "stdout",
          "text": [
            "         o\n",
            "        oo\n",
            "       ooo\n",
            "      oooo\n",
            "     ooooo\n",
            "    oooooo\n",
            "   ooooooo\n",
            "  oooooooo\n",
            " ooooooooo\n",
            "oooooooooo\n"
          ]
        }
      ]
    },
    {
      "cell_type": "code",
      "source": [
        "#印出靠右的\"倒\"三角形\n",
        "i=0\n",
        "layer=10\n",
        "lsymbol, rsymbol=\" \", \"o\"\n",
        "while i<layer:\n",
        "  lcount=i\n",
        "  rcount=layer-i\n",
        "  print(lsymbol*lcount+\n",
        "        rsymbol*rcount)\n",
        "  i+=1"
      ],
      "metadata": {
        "colab": {
          "base_uri": "https://localhost:8080/"
        },
        "id": "kcUI_SOCgh8o",
        "outputId": "6030548b-b469-4a14-ede6-314cf9218d43"
      },
      "execution_count": null,
      "outputs": [
        {
          "output_type": "stream",
          "name": "stdout",
          "text": [
            "oooooooooo\n",
            " ooooooooo\n",
            "  oooooooo\n",
            "   ooooooo\n",
            "    oooooo\n",
            "     ooooo\n",
            "      oooo\n",
            "       ooo\n",
            "        oo\n",
            "         o\n"
          ]
        }
      ]
    },
    {
      "cell_type": "code",
      "source": [
        "#印出靠左的\"倒\"三角形\n",
        "i=0\n",
        "layer=10\n",
        "lsymbol, rsymbol=\"o\", \" \"\n",
        "while i<layer:\n",
        "  lcount=layer-i\n",
        "  rcount=i\n",
        "  print(lsymbol*lcount+\n",
        "        rsymbol*rcount)\n",
        "  i+=1"
      ],
      "metadata": {
        "colab": {
          "base_uri": "https://localhost:8080/"
        },
        "id": "Rwk46cdUhhbE",
        "outputId": "2fa77f7f-4a25-4083-e06a-30785f6b52f8"
      },
      "execution_count": null,
      "outputs": [
        {
          "output_type": "stream",
          "name": "stdout",
          "text": [
            "oooooooooo\n",
            "ooooooooo \n",
            "oooooooo  \n",
            "ooooooo   \n",
            "oooooo    \n",
            "ooooo     \n",
            "oooo      \n",
            "ooo       \n",
            "oo        \n",
            "o         \n"
          ]
        }
      ]
    },
    {
      "cell_type": "code",
      "source": [
        "#印出\"倒\"金字塔\n",
        "i=0\n",
        "layer=10\n",
        "lsymbol, midsymbol, rsymbol=\" \", \"o\", \" \"\n",
        "while i<layer:\n",
        "  lcount,rcount=i,i\n",
        "  midcount=(layer*2-1)-lcount-rcount\n",
        "  print(lsymbol*lcount+\n",
        "        midsymbol*midcount+\n",
        "        rsymbol*rcount)\n",
        "  i+=1"
      ],
      "metadata": {
        "colab": {
          "base_uri": "https://localhost:8080/"
        },
        "id": "9HBujOQ1f1n5",
        "outputId": "d92d9b4b-568a-48c6-9f13-08ad4e0d71cb"
      },
      "execution_count": null,
      "outputs": [
        {
          "output_type": "stream",
          "name": "stdout",
          "text": [
            "ooooooooooooooooooo\n",
            " ooooooooooooooooo \n",
            "  ooooooooooooooo  \n",
            "   ooooooooooooo   \n",
            "    ooooooooooo    \n",
            "     ooooooooo     \n",
            "      ooooooo      \n",
            "       ooooo       \n",
            "        ooo        \n",
            "         o         \n"
          ]
        }
      ]
    },
    {
      "cell_type": "markdown",
      "source": [
        "\n",
        "> layer: 3 4 5 6\n",
        "\n",
        "> first: 5 7 9 11"
      ],
      "metadata": {
        "id": "bsMGI5u0l5Kc"
      }
    },
    {
      "cell_type": "code",
      "source": [
        "#印出\"正\"金字塔\n",
        "i=0\n",
        "layer=5\n",
        "lsymbol, midsymbol, rsymbol=\" \", \"o\", \" \"\n",
        "while i<layer:\n",
        "  lcount,rcount=layer-i-1, layer-i-1\n",
        "  midcount=2*i+1\n",
        "  print(lsymbol*lcount+\n",
        "        midsymbol*midcount+\n",
        "        rsymbol*rcount)\n",
        "  i+=1"
      ],
      "metadata": {
        "colab": {
          "base_uri": "https://localhost:8080/"
        },
        "id": "L1cWNpu7jraK",
        "outputId": "4fad8a37-44fd-48e9-b506-0fad5843b3cc"
      },
      "execution_count": null,
      "outputs": [
        {
          "output_type": "stream",
          "name": "stdout",
          "text": [
            "    o    \n",
            "   ooo   \n",
            "  ooooo  \n",
            " ooooooo \n",
            "ooooooooo\n"
          ]
        }
      ]
    },
    {
      "cell_type": "code",
      "source": [
        "#變化型 (每排皆不同符號)\n",
        "i=0\n",
        "layer=5\n",
        "lsymbol, rsymbol=\" \", \" \"\n",
        "midsymbols=[\"\\u2660\",\"\\u2661\",\"\\u2662\",\"\\u2663\",\"\\u2664\"]  #unicode\n",
        "while i<layer:\n",
        "  lcount,rcount=layer-i-1, layer-i-1\n",
        "  midcount=2*i+1\n",
        "  midsymbol=midsymbols[i%len(midsymbols)]\n",
        "  print(lsymbol*lcount+\n",
        "        midsymbol*midcount+\n",
        "        rsymbol*rcount)\n",
        "  i+=1"
      ],
      "metadata": {
        "colab": {
          "base_uri": "https://localhost:8080/"
        },
        "id": "N1XHIljVxyql",
        "outputId": "a763cc17-0d19-4d7c-e7bc-8743b62f0817"
      },
      "execution_count": null,
      "outputs": [
        {
          "output_type": "stream",
          "name": "stdout",
          "text": [
            "    ♠    \n",
            "   ♡♡♡   \n",
            "  ♢♢♢♢♢  \n",
            " ♣♣♣♣♣♣♣ \n",
            "♤♤♤♤♤♤♤♤♤\n"
          ]
        }
      ]
    },
    {
      "cell_type": "code",
      "source": [
        "# 計算 1-10 的總和\n",
        "total=0\n",
        "i=0\n",
        "while i<10:\n",
        "  total+=i+1\n",
        "#  print(total)\n",
        "  i+=1\n",
        "print(total)"
      ],
      "metadata": {
        "colab": {
          "base_uri": "https://localhost:8080/"
        },
        "id": "JgG7LVE7FyCE",
        "outputId": "d1bd085b-7198-4c9b-b4c4-f17b5aaa5190"
      },
      "execution_count": null,
      "outputs": [
        {
          "output_type": "stream",
          "name": "stdout",
          "text": [
            "55\n"
          ]
        }
      ]
    },
    {
      "cell_type": "code",
      "source": [
        "# a<b, 求 a/b 的後10位小數\n",
        "a,b=2,7\n",
        "ans=\"0.\"\n",
        "\n",
        "i=0\n",
        "while i<10:\n",
        "  a10=a*10  #1. 補0\n",
        "  ans=ans+str(a10//b) #2. 取商\n",
        "  a=a10%b #3. 取餘\n",
        "#  print(ans)\n",
        "  i+=1\n",
        "print(ans)"
      ],
      "metadata": {
        "colab": {
          "base_uri": "https://localhost:8080/"
        },
        "id": "YwMX_YuPHo1o",
        "outputId": "ce3f7056-b4f0-43f9-b2e4-24ef11ae41e4"
      },
      "execution_count": null,
      "outputs": [
        {
          "output_type": "stream",
          "name": "stdout",
          "text": [
            "0.2857142857\n"
          ]
        }
      ]
    },
    {
      "cell_type": "code",
      "source": [
        "# 判斷字串中有幾個小寫字母和幾個大寫字母\n",
        "s=\"abcDERGLkopjwfefer.    // owjogjFUGISGHOI.  123455hhgf\"\n",
        "lcase,ucase=0,0\n",
        "i=0\n",
        "while i<len(s):\n",
        "  #先轉成ascii code去判斷\n",
        "  n=ord(s[i])\n",
        "  if ord(\"A\")<= n <=ord(\"Z\"):  #大寫：65 <= A~Z <=90\n",
        "    ucase+=1\n",
        "  elif ord(\"a\")<= n <=ord(\"z\"):  #小寫：97<= a~z <=122\n",
        "    lcase+=1\n",
        "  i+=1\n",
        "print(\"大寫總共有：\",ucase, \", 小寫總共有：\",lcase)"
      ],
      "metadata": {
        "colab": {
          "base_uri": "https://localhost:8080/"
        },
        "id": "uYBOXWrOMYDG",
        "outputId": "8ef9b86e-abd2-483b-ac69-6a5f682e5743"
      },
      "execution_count": null,
      "outputs": [
        {
          "output_type": "stream",
          "name": "stdout",
          "text": [
            "大寫總共有： 14 , 小寫總共有： 23\n"
          ]
        }
      ]
    },
    {
      "cell_type": "code",
      "source": [
        "#統計大小寫字母, 每一個字母總各自有幾個\n",
        "s=\"abcDERGLkopjwfefer.    // owjogjFUGISGHOI.  123455hhgf\"\n",
        "ucases=[0]*26\n",
        "lcases=[0]*26\n",
        "i=0\n",
        "while i<len(s):\n",
        "  #先轉成ascii code去判斷\n",
        "  n=ord(s[i])\n",
        "  if ord(\"A\")<= n <=ord(\"Z\"):  #大寫：65 <= A~Z <=90\n",
        "    n=n-ord(\"A\")  # 轉成從0開始的key\n",
        "    ucases[n]+=1\n",
        "  elif ord(\"a\")<= n <=ord(\"z\"):  #小寫：97<= a~z <=122\n",
        "    n=n-ord(\"a\")\n",
        "    lcases[n]+=1\n",
        "  i+=1\n",
        "# print(\"大寫字母個數：\", ucases)\n",
        "# print(\"小寫字母個數：\", lcases)\n",
        "\n",
        "#印出 26 行\n",
        "#用 ascii 轉成字母：chr(97) -> A, chr(65) -> a\n",
        "#A:2 a:1\n",
        "#B:2 b:0\n",
        "i=0\n",
        "while i<len(ucases):\n",
        "  c1, c2=chr(i+ord(\"A\")), chr(i+ord(\"a\"))\n",
        "  n1, n2=ucases[i], lcases[i]\n",
        "  print(c1,\":\",n1,\" \",c2,\":\",n2)\n",
        "  i+=1"
      ],
      "metadata": {
        "colab": {
          "base_uri": "https://localhost:8080/"
        },
        "id": "wvIWbsPeRaEJ",
        "outputId": "3e742d83-7f08-48e1-c3f6-1af6feeeb6e0"
      },
      "execution_count": null,
      "outputs": [
        {
          "output_type": "stream",
          "name": "stdout",
          "text": [
            "A : 0   a : 1\n",
            "B : 0   b : 1\n",
            "C : 0   c : 1\n",
            "D : 1   d : 0\n",
            "E : 1   e : 2\n",
            "F : 1   f : 3\n",
            "G : 3   g : 2\n",
            "H : 1   h : 2\n",
            "I : 2   i : 0\n",
            "J : 0   j : 3\n",
            "K : 0   k : 1\n",
            "L : 1   l : 0\n",
            "M : 0   m : 0\n",
            "N : 0   n : 0\n",
            "O : 1   o : 3\n",
            "P : 0   p : 1\n",
            "Q : 0   q : 0\n",
            "R : 1   r : 1\n",
            "S : 1   s : 0\n",
            "T : 0   t : 0\n",
            "U : 1   u : 0\n",
            "V : 0   v : 0\n",
            "W : 0   w : 2\n",
            "X : 0   x : 0\n",
            "Y : 0   y : 0\n",
            "Z : 0   z : 0\n"
          ]
        }
      ]
    },
    {
      "cell_type": "code",
      "source": [
        "#預估半徑為1cm的圓面積\n",
        "#圓心放於x,y座標中心\n",
        "\n",
        "#x最左邊的座標與最右邊座標\n",
        "x_left, x_right=-1, 1\n",
        "#分成幾等分？\n",
        "part=100\n",
        "#每一part的間隔多長？(2/100=0.02)\n",
        "interval=(x_right-x_left)/part\n",
        "#積分法：把每一個小part的小長方形面積加總起來\n",
        "i=0\n",
        "total=0\n",
        "while i<part:\n",
        "  #由x最左座標開始走(計算)到x軸最右\n",
        "  #每一part的最左座標 (x=-1+0.02xi)\n",
        "  x=x_left+interval*i\n",
        "  #每ㄧpart的y總長 (y=2x(1-x^2)^0.5)\n",
        "  y=2*(1-x**2)**0.5\n",
        "  #每一part長方形的面積\n",
        "  area=interval*y\n",
        "  #加總所有小長形\n",
        "  total+=area\n",
        "  i+=1\n",
        "print(\"積分法估算面積：\", total)"
      ],
      "metadata": {
        "colab": {
          "base_uri": "https://localhost:8080/"
        },
        "id": "9P7KI5O0gnFq",
        "outputId": "12178a1f-3d4e-4967-c424-fc48444c0484"
      },
      "execution_count": null,
      "outputs": [
        {
          "output_type": "stream",
          "name": "stdout",
          "text": [
            "積分法估算面積： 3.138268511098501\n"
          ]
        }
      ]
    }
  ]
}