{
  "nbformat": 4,
  "nbformat_minor": 0,
  "metadata": {
    "colab": {
      "provenance": [],
      "authorship_tag": "ABX9TyP4j90AbNviLzEFUSTRbc9o",
      "include_colab_link": true
    },
    "kernelspec": {
      "name": "python3",
      "display_name": "Python 3"
    },
    "language_info": {
      "name": "python"
    }
  },
  "cells": [
    {
      "cell_type": "markdown",
      "metadata": {
        "id": "view-in-github",
        "colab_type": "text"
      },
      "source": [
        "<a href=\"https://colab.research.google.com/github/Yiting916/tibame_python/blob/main/1231.ipynb\" target=\"_parent\"><img src=\"https://colab.research.google.com/assets/colab-badge.svg\" alt=\"Open In Colab\"/></a>"
      ]
    },
    {
      "cell_type": "code",
      "source": [
        "#boolean (True/ False)\n",
        "#1. 不：not 加在前面\n",
        "#2. 組合：而且(and), 或者(or)\n",
        "print(not \"apl\" in \"apple\")\n",
        "print(\"apl\" not in \"apple\")\n",
        "print(not \"apl\" == \"apple\")\n",
        "weight=50\n",
        "height=160\n",
        "age=18\n",
        "print(age<=18 and weight<=50)"
      ],
      "metadata": {
        "colab": {
          "base_uri": "https://localhost:8080/"
        },
        "id": "ght_UcB7WjE8",
        "outputId": "8ac52ee7-dd4e-4958-e038-c033c5813631"
      },
      "execution_count": 6,
      "outputs": [
        {
          "output_type": "stream",
          "name": "stdout",
          "text": [
            "True\n",
            "True\n",
            "True\n",
            "True\n"
          ]
        }
      ]
    },
    {
      "cell_type": "code",
      "execution_count": 26,
      "metadata": {
        "colab": {
          "base_uri": "https://localhost:8080/"
        },
        "id": "2zR8UzsiTGeN",
        "outputId": "41218dc5-affa-4056-e80b-7513385c5dff"
      },
      "outputs": [
        {
          "output_type": "stream",
          "name": "stdout",
          "text": [
            "平(E)\n",
            "平(E)\n",
            "平(E)\n",
            "贏(W)\n",
            "平(E)\n",
            "贏(W)\n",
            "平(E)\n",
            "輸(L)\n",
            "平(E)\n",
            "輸(L)\n",
            "平(E)\n",
            "輸(L)\n",
            "總體: WIN\n"
          ]
        }
      ],
      "source": [
        "#不限次數的while迴圈 -> while True\n",
        "#猜拳, 先贏三把就贏 (win:1, even:0, lose:-1)\n",
        "import random\n",
        "\n",
        "trans=[\"贏(W)\", \"平(E)\", \"輸(L)\"]\n",
        "\n",
        "win, even, lose=0, 0, 0\n",
        "#條件1: win <3\n",
        "#條件2: lose <3\n",
        "#當我還沒贏3次而且對手還沒對手還沒贏三次 我們就繼續玩 -> 每個人都要贏三次以上才能結束\n",
        "#while win<3 and lose<3:\n",
        "while True:\n",
        "  result=random.randint(-1,1)\n",
        "  print(trans[result+1])\n",
        "\n",
        "  if result==-1:\n",
        "    lose+=1\n",
        "  elif result==0:\n",
        "    even+=1\n",
        "  elif result==1:\n",
        "    win+=1\n",
        "  #改判斷在這 -> 1. 可做完收尾工作再結束迴圈 (流程自由) 2. 結束講中文比較容易懂\n",
        "  #如果當我贏了三次或是對手贏了三次就結束\n",
        "  if win>=3:\n",
        "    print(\"總體: WIN\")\n",
        "    break\n",
        "  elif lose>=3:\n",
        "    print(\"總體: LOSE\")\n",
        "    break"
      ]
    },
    {
      "cell_type": "code",
      "source": [
        "#給定兩數相除, 整除後就提早結束 (a<b)\n",
        "a, b = 3, 5\n",
        "ans = \"0.\"\n",
        "\n",
        "i = 0\n",
        "while i<10:\n",
        "  # 2 -> 20\n",
        "  a10 = a * 10\n",
        "  # 20 // 7 -> 0.2\n",
        "  ans = ans + str(a10 // b)\n",
        "  print(ans)\n",
        "  # 20 % 7\n",
        "  a = a10 % b\n",
        "  if a==0:\n",
        "    break\n",
        "  i = i + 1"
      ],
      "metadata": {
        "colab": {
          "base_uri": "https://localhost:8080/"
        },
        "id": "Hbb-bJ5jhadH",
        "outputId": "3f76e4da-aa1a-40aa-eae7-a9152639da1b"
      },
      "execution_count": 28,
      "outputs": [
        {
          "output_type": "stream",
          "name": "stdout",
          "text": [
            "0.6\n"
          ]
        }
      ]
    },
    {
      "cell_type": "code",
      "source": [
        "#給定兩數相除, 整除後就提早結束 (a>b)\n",
        "a, b = 50, 7\n",
        "ans = str(a//b)+\".\"  #整數 7.\n",
        "a=a%b                #餘數 1\n",
        "\n",
        "i = 0\n",
        "while i<10:\n",
        "  #補0: 1 -> 10\n",
        "  a10 = a * 10\n",
        "  #取商: 10 // 7 -> 0.1\n",
        "  ans = ans + str(a10 // b)\n",
        "  print(ans)\n",
        "  #取餘：10 % 7\n",
        "  a = a10 % b\n",
        "  if a==0:\n",
        "    break\n",
        "  i = i + 1"
      ],
      "metadata": {
        "colab": {
          "base_uri": "https://localhost:8080/"
        },
        "id": "R76ZDH05i-h1",
        "outputId": "1599b326-3563-41e3-aafa-da60390cd845"
      },
      "execution_count": 29,
      "outputs": [
        {
          "output_type": "stream",
          "name": "stdout",
          "text": [
            "7.1\n",
            "7.14\n",
            "7.142\n",
            "7.1428\n",
            "7.14285\n",
            "7.142857\n",
            "7.1428571\n",
            "7.14285714\n",
            "7.142857142\n",
            "7.1428571428\n"
          ]
        }
      ]
    },
    {
      "cell_type": "code",
      "source": [
        "#完全平方日\n",
        "#給定隨便一個日期, 往後給10個完全平方日\n",
        "#判斷日期是否合理\n",
        "import random\n",
        "\n",
        "#指定ㄧ個8位數日期\n",
        "n=19800269\n",
        "#完全平方數list\n",
        "result=[0]*10\n",
        "#12月份的每月總天數\n",
        "max_days=[31,28,31,30,31,30,31,31,30,31,30,31]\n",
        "\n",
        "#判斷傳入值是否為完全平方數\n",
        "def issquare(x):\n",
        "  root=int(x**0.5)\n",
        "  return x==root**2\n",
        "\n",
        "i=0\n",
        "while i<10:\n",
        "  #1.隨機取一個比n大的8位數值\n",
        "  n1=random.randint(n,99999999)\n",
        "\n",
        "  #2.判斷是否為完全平方數\n",
        "  if issquare(n1):\n",
        "    year=n1//10000        #取前四位(年)\n",
        "    last4=n1%10000        #取後四位(月日)\n",
        "    day=last4%100             #取日\n",
        "    month=last4//100          #取月\n",
        "\n",
        "    #3.判斷日期是否合理\n",
        "    #檢查月份\n",
        "    if 1<=month<=12:\n",
        "      month_day=max_days[month-1]\n",
        "      #print(\"月:\", month)\n",
        "      if month==2:\n",
        "        #判斷是否為閏年 (4的倍數): 可被4整除 -> 可被400整除 -> \"不能\"被100整除\n",
        "        #寫法1:\n",
        "        if year%400==0: #閏年：2月有29天\n",
        "          month_day=month_day+1\n",
        "        elif year%100==0:\n",
        "          pass\n",
        "        elif year%4==0:\n",
        "          month_day=month_day+1\n",
        "      #檢查日期\n",
        "      if 1<=day<=month_day:\n",
        "        #print(\"日：\", day)\n",
        "        #print(result[i])\n",
        "        result[i]=n1\n",
        "        i+=1\n",
        "      else:\n",
        "        pass\n",
        "        #print(\"不合理的日期！\")\n",
        "    else:\n",
        "      pass\n",
        "      #print(\"不合理的月份！\")\n",
        "  else:\n",
        "    pass\n",
        "#將日期從小到大排序印出\n",
        "print(\"完全平方日：\",sorted(result))\n"
      ],
      "metadata": {
        "colab": {
          "base_uri": "https://localhost:8080/"
        },
        "id": "IxVPrhD2lvWY",
        "outputId": "a1ff1854-d68d-43dd-e2e2-866bbd173256"
      },
      "execution_count": 59,
      "outputs": [
        {
          "output_type": "stream",
          "name": "stdout",
          "text": [
            "完全平方日： [26471025, 28601104, 29680704, 35390601, 46580625, 64400625, 67881121, 76090729, 76160529, 94381225]\n"
          ]
        }
      ]
    },
    {
      "cell_type": "markdown",
      "source": [
        "判斷閏年寫法2\n",
        "\n",
        "``` Python\n",
        "if year%4==0:\n",
        "  if year%100==0:\n",
        "    if year%400==0:\n",
        "      month_day=month_day+1\n",
        "    else:\n",
        "      pass\n",
        "  else:\n",
        "      month_day=month_day+1\n",
        "else:\n",
        "  pass\n",
        "```\n"
      ],
      "metadata": {
        "id": "bm87pqcz_xaR"
      }
    },
    {
      "cell_type": "code",
      "source": [
        "#完全平方日\n",
        "#給定隨便一個日期, 往後給10個完全平方日\n",
        "#判斷日期是否合理\n",
        "import random\n",
        "\n",
        "#指定ㄧ個8位數日期\n",
        "n=19800269\n",
        "#完全平方數list\n",
        "num=10\n",
        "result=[0]*num\n",
        "#12月份的每月總天數\n",
        "max_days=[31,28,31,30,31,30,31,31,30,31,30,31]\n",
        "\n",
        "#判斷傳入值是否為完全平方數\n",
        "def issquare(x):\n",
        "  root=int(x**0.5)\n",
        "  return x==root**2\n",
        "\n",
        "i=0\n",
        "#1.依序取比n大的8位數字\n",
        "for n1 in range(n,99999999):\n",
        "  #2.判斷是否為完全平方數\n",
        "  if issquare(n1):\n",
        "    year=n1//10000        #取前四位(年)\n",
        "    last4=n1%10000        #取後四位(月日)\n",
        "    day=last4%100             #取日\n",
        "    month=last4//100          #取月\n",
        "\n",
        "    #3.判斷日期是否合理\n",
        "    #檢查月份\n",
        "    if 1<=month<=12:\n",
        "      month_day=max_days[month-1]\n",
        "      #print(\"月:\", month)\n",
        "      if month==2:\n",
        "        #判斷是否為閏年 (4的倍數): 可被4整除 -> 可被400整除 -> \"不能\"被100整除\n",
        "        #寫法1:\n",
        "        if year%400==0: #閏年：2月有29天\n",
        "          month_day=month_day+1\n",
        "        elif year%100==0:\n",
        "          pass\n",
        "        elif year%4==0:\n",
        "          month_day=month_day+1\n",
        "      #檢查日期\n",
        "      if 1<=day<=month_day:\n",
        "        #print(\"日：\", day)\n",
        "        #print(result[i])\n",
        "        result[i]=n1\n",
        "        i+=1\n",
        "        if i==10:\n",
        "          break\n",
        "      else:\n",
        "        pass\n",
        "        #print(\"不合理的日期！\")\n",
        "    else:\n",
        "      pass\n",
        "      #print(\"不合理的月份！\")\n",
        "  else:\n",
        "    pass\n",
        "\n",
        "#將日期從小到大排序印出\n",
        "print(\"完全平方日：\",sorted(result))\n"
      ],
      "metadata": {
        "colab": {
          "base_uri": "https://localhost:8080/"
        },
        "id": "Ac4mhF6qBrXu",
        "outputId": "3ee53c82-63b8-43c2-a101-1de9bab18ad0"
      },
      "execution_count": 60,
      "outputs": [
        {
          "output_type": "stream",
          "name": "stdout",
          "text": [
            "完全平方日： [19820304, 19900521, 20151121, 20241001, 20720704, 20930625, 21150801, 21390625, 21520321, 21641104]\n"
          ]
        }
      ]
    }
  ]
}