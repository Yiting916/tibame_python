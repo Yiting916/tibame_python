{
  "nbformat": 4,
  "nbformat_minor": 0,
  "metadata": {
    "colab": {
      "provenance": [],
      "authorship_tag": "ABX9TyPZiFEQyHoBpD/gqwZDM7HE",
      "include_colab_link": true
    },
    "kernelspec": {
      "name": "python3",
      "display_name": "Python 3"
    },
    "language_info": {
      "name": "python"
    }
  },
  "cells": [
    {
      "cell_type": "markdown",
      "metadata": {
        "id": "view-in-github",
        "colab_type": "text"
      },
      "source": [
        "<a href=\"https://colab.research.google.com/github/Yiting916/tibame_python/blob/main/1231.ipynb\" target=\"_parent\"><img src=\"https://colab.research.google.com/assets/colab-badge.svg\" alt=\"Open In Colab\"/></a>"
      ]
    },
    {
      "cell_type": "code",
      "source": [
        "#boolean (True/ False)\n",
        "#1. 不：not 加在前面\n",
        "#2. 組合：而且(and), 或者(or)\n",
        "print(not \"apl\" in \"apple\")\n",
        "print(\"apl\" not in \"apple\")\n",
        "print(not \"apl\" == \"apple\")\n",
        "weight=50\n",
        "height=160\n",
        "age=18\n",
        "print(age<=18 and weight<=50)"
      ],
      "metadata": {
        "colab": {
          "base_uri": "https://localhost:8080/"
        },
        "id": "ght_UcB7WjE8",
        "outputId": "8ac52ee7-dd4e-4958-e038-c033c5813631"
      },
      "execution_count": 6,
      "outputs": [
        {
          "output_type": "stream",
          "name": "stdout",
          "text": [
            "True\n",
            "True\n",
            "True\n",
            "True\n"
          ]
        }
      ]
    },
    {
      "cell_type": "code",
      "execution_count": 26,
      "metadata": {
        "colab": {
          "base_uri": "https://localhost:8080/"
        },
        "id": "2zR8UzsiTGeN",
        "outputId": "41218dc5-affa-4056-e80b-7513385c5dff"
      },
      "outputs": [
        {
          "output_type": "stream",
          "name": "stdout",
          "text": [
            "平(E)\n",
            "平(E)\n",
            "平(E)\n",
            "贏(W)\n",
            "平(E)\n",
            "贏(W)\n",
            "平(E)\n",
            "輸(L)\n",
            "平(E)\n",
            "輸(L)\n",
            "平(E)\n",
            "輸(L)\n",
            "總體: WIN\n"
          ]
        }
      ],
      "source": [
        "#不限次數的while迴圈 -> while True\n",
        "#猜拳, 先贏三把就贏 (win:1, even:0, lose:-1)\n",
        "import random\n",
        "\n",
        "trans=[\"贏(W)\", \"平(E)\", \"輸(L)\"]\n",
        "\n",
        "win, even, lose=0, 0, 0\n",
        "#條件1: win <3\n",
        "#條件2: lose <3\n",
        "#當我還沒贏3次而且對手還沒對手還沒贏三次 我們就繼續玩 -> 每個人都要贏三次以上才能結束\n",
        "#while win<3 and lose<3:\n",
        "while True:\n",
        "  result=random.randint(-1,1)\n",
        "  print(trans[result+1])\n",
        "\n",
        "  if result==-1:\n",
        "    lose+=1\n",
        "  elif result==0:\n",
        "    even+=1\n",
        "  elif result==1:\n",
        "    win+=1\n",
        "  #改判斷在這 -> 1. 可做完收尾工作再結束迴圈 (流程自由) 2. 結束講中文比較容易懂\n",
        "  #如果當我贏了三次或是對手贏了三次就結束\n",
        "  if win>=3:\n",
        "    print(\"總體: WIN\")\n",
        "    break\n",
        "  elif lose>=3:\n",
        "    print(\"總體: LOSE\")\n",
        "    break"
      ]
    },
    {
      "cell_type": "code",
      "source": [
        "#給定兩數相除, 整除後就提早結束 (a<b)\n",
        "a, b = 3, 5\n",
        "ans = \"0.\"\n",
        "\n",
        "i = 0\n",
        "while i<10:\n",
        "  # 2 -> 20\n",
        "  a10 = a * 10\n",
        "  # 20 // 7 -> 0.2\n",
        "  ans = ans + str(a10 // b)\n",
        "  print(ans)\n",
        "  # 20 % 7\n",
        "  a = a10 % b\n",
        "  if a==0:\n",
        "    break\n",
        "  i = i + 1"
      ],
      "metadata": {
        "colab": {
          "base_uri": "https://localhost:8080/"
        },
        "id": "Hbb-bJ5jhadH",
        "outputId": "3f76e4da-aa1a-40aa-eae7-a9152639da1b"
      },
      "execution_count": 28,
      "outputs": [
        {
          "output_type": "stream",
          "name": "stdout",
          "text": [
            "0.6\n"
          ]
        }
      ]
    },
    {
      "cell_type": "code",
      "source": [
        "#給定兩數相除, 整除後就提早結束 (a>b)\n",
        "a, b = 50, 7\n",
        "ans = str(a//b)+\".\"  #整數 7.\n",
        "a=a%b                #餘數 1\n",
        "\n",
        "i = 0\n",
        "while i<10:\n",
        "  #補0: 1 -> 10\n",
        "  a10 = a * 10\n",
        "  #取商: 10 // 7 -> 0.1\n",
        "  ans = ans + str(a10 // b)\n",
        "  print(ans)\n",
        "  #取餘：10 % 7\n",
        "  a = a10 % b\n",
        "  if a==0:\n",
        "    break\n",
        "  i = i + 1"
      ],
      "metadata": {
        "colab": {
          "base_uri": "https://localhost:8080/"
        },
        "id": "R76ZDH05i-h1",
        "outputId": "1599b326-3563-41e3-aafa-da60390cd845"
      },
      "execution_count": 29,
      "outputs": [
        {
          "output_type": "stream",
          "name": "stdout",
          "text": [
            "7.1\n",
            "7.14\n",
            "7.142\n",
            "7.1428\n",
            "7.14285\n",
            "7.142857\n",
            "7.1428571\n",
            "7.14285714\n",
            "7.142857142\n",
            "7.1428571428\n"
          ]
        }
      ]
    },
    {
      "cell_type": "code",
      "source": [
        "#自訂功能\n",
        "# def 功能名稱(參數):\n",
        "#   do something\n",
        "#   return 回傳值\n",
        "\n",
        "def add(a,b):\n",
        "  ans=a+b\n",
        "  return ans\n",
        "\n",
        "print(add(2,3))\n",
        "print(add(3,7))"
      ],
      "metadata": {
        "colab": {
          "base_uri": "https://localhost:8080/"
        },
        "id": "xCLVfd3tQvFN",
        "outputId": "be364ba4-bde0-4659-8258-60185837a27e"
      },
      "execution_count": 68,
      "outputs": [
        {
          "output_type": "stream",
          "name": "stdout",
          "text": [
            "5\n",
            "10\n"
          ]
        }
      ]
    },
    {
      "cell_type": "markdown",
      "source": [
        "判斷閏年寫法2\n",
        "\n",
        "``` Python\n",
        "if year%4==0:\n",
        "  if year%100==0:\n",
        "    if year%400==0:\n",
        "      month_day=month_day+1\n",
        "    else:\n",
        "      pass\n",
        "  else:\n",
        "      month_day=month_day+1\n",
        "else:\n",
        "  pass\n",
        "```\n"
      ],
      "metadata": {
        "id": "bm87pqcz_xaR"
      }
    },
    {
      "cell_type": "code",
      "source": [
        "#完全平方日1\n",
        "\n",
        "#自訂功能2-判斷是否為閏年 (4的倍數): 可被4整除 -> \"不能\"被100整除 -> 可被400整除\n",
        "def is_leap_year(year):\n",
        "  if year%400==0:\n",
        "    return True\n",
        "  elif year%100==0:\n",
        "    return False\n",
        "  elif year%4==0:\n",
        "    return True\n",
        "  else:\n",
        "    return False\n",
        "\n",
        "#自訂功能1-檢查日期是否合理\n",
        "def is_valid_date(n):\n",
        "  year=n//10000        #取前四位(年)\n",
        "  last4=n%10000        #取後四位(月日)\n",
        "  day=last4%100             #取日\n",
        "  month=last4//100          #取月\n",
        "\n",
        "  #12月份的每月總天數\n",
        "  max_days=[31,28,31,30,31,30,31,31,30,31,30,31]\n",
        "\n",
        "  #檢查月份\n",
        "  if 1<=month<=12:\n",
        "    month_day=max_days[month-1]\n",
        "    #print(\"月:\", month)\n",
        "    #是2月的話, 則檢查是否為閏年\n",
        "    if month==2 and is_leap_year(year)==True:\n",
        "      #閏年2月有29天\n",
        "      month_day=month_day+1\n",
        "    #檢查日期\n",
        "    if 1<=day<=month_day:\n",
        "      #print(\"日：\", day)\n",
        "      return True\n",
        "    else:\n",
        "      #print(\"不合理的日期！\")\n",
        "      return False\n",
        "  else:\n",
        "    #print(\"不合理的月份！\")\n",
        "    return False\n",
        "\n",
        "#主程式：檢查是否為完全平方日\n",
        "#1.正向:取真實的日期, 看看他可不可以開根號\n",
        "#2.反向:先取值, 平方後, 看看他是不是合理的日期\n",
        "import math\n",
        "today=20241231\n",
        "start=math.ceil(today**0.5)\n",
        "count=0\n",
        "while True:\n",
        "  date=start**2\n",
        "  if is_valid_date(date):\n",
        "    print(start, date, \"是完全平方日\")\n",
        "    count+=1\n",
        "  start+=1\n",
        "  if i==10:\n",
        "    break"
      ],
      "metadata": {
        "colab": {
          "base_uri": "https://localhost:8080/"
        },
        "id": "2P8EUs5ySokW",
        "outputId": "34900f2c-eea0-477e-e2f8-1d6d2ea7e08f"
      },
      "execution_count": 83,
      "outputs": [
        {
          "output_type": "stream",
          "name": "stdout",
          "text": [
            "4552 20720704 是完全平方日\n",
            "4575 20930625 是完全平方日\n",
            "4599 21150801 是完全平方日\n",
            "4625 21390625 是完全平方日\n",
            "4639 21520321 是完全平方日\n",
            "4652 21641104 是完全平方日\n",
            "4653 21650409 是完全平方日\n",
            "4668 21790224 是完全平方日\n",
            "4682 21921124 是完全平方日\n",
            "4698 22071204 是完全平方日\n"
          ]
        }
      ]
    },
    {
      "cell_type": "markdown",
      "source": [
        "\n",
        "\n",
        "```Python\n",
        "# 正向:取真實的日期, 看看他可不可以開根號\n",
        "def issquare(date):\n",
        "  root=date**0.5\n",
        "  return date==root**2\n",
        "```\n",
        "\n"
      ],
      "metadata": {
        "id": "zfeo1gP4cteE"
      }
    }
  ]
}