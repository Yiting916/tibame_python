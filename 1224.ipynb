{
  "nbformat": 4,
  "nbformat_minor": 0,
  "metadata": {
    "colab": {
      "provenance": [],
      "authorship_tag": "ABX9TyNhUk4wtbX3HGAr0ZXsDFYD",
      "include_colab_link": true
    },
    "kernelspec": {
      "name": "python3",
      "display_name": "Python 3"
    },
    "language_info": {
      "name": "python"
    }
  },
  "cells": [
    {
      "cell_type": "markdown",
      "metadata": {
        "id": "view-in-github",
        "colab_type": "text"
      },
      "source": [
        "<a href=\"https://colab.research.google.com/github/Yiting916/tibame_python/blob/main/1224.ipynb\" target=\"_parent\"><img src=\"https://colab.research.google.com/assets/colab-badge.svg\" alt=\"Open In Colab\"/></a>"
      ]
    },
    {
      "cell_type": "markdown",
      "source": [
        "Latex Math\n",
        "\n",
        "$a=\\sum_{i=0}^{n} \\frac{1}{n} $"
      ],
      "metadata": {
        "id": "GQwip-C6hx1U"
      }
    },
    {
      "cell_type": "code",
      "source": [
        "# 練習1: 計算bmi並給建議\n",
        "\n",
        "weight = float(input(\"請輸入你的體重(kg): \"))\n",
        "height = float(input(\"請輸入你的身高(cm): \"))\n",
        "\n",
        "# BMI標準：過輕(BMI<18.5)、健康體重(18.5≦BMI<24)、過重(24≦BMI<27)及肥胖(BMI≧27)\n",
        "bmi = round(weight/(height/100)**2, 2)\n",
        "suggest = ''\n",
        "if bmi<18.5:\n",
        "  suggest = \"過輕\"\n",
        "elif 18.5<=bmi<24:\n",
        "  suggest = \"標準體重\"\n",
        "elif 24<=bmi<27:\n",
        "  suggest = \"過重\"\n",
        "else:\n",
        "  suggest = \"肥胖\"\n",
        "\n",
        "print(\"你的BMI值為: \"+str(bmi)+''+suggest)"
      ],
      "metadata": {
        "colab": {
          "base_uri": "https://localhost:8080/"
        },
        "id": "rvinrHqwmO-c",
        "outputId": "96148ea2-674e-4aa4-86b6-9d18cf216c90"
      },
      "execution_count": null,
      "outputs": [
        {
          "output_type": "stream",
          "name": "stdout",
          "text": [
            "請輸入你的體重(kg): 53.5\n",
            "請輸入你的身高(cm): 159\n",
            "你的BMI值為: 21.16, 標準體重\n"
          ]
        }
      ]
    },
    {
      "cell_type": "code",
      "source": [
        "import decimal\n",
        "print(3+3.14)\n",
        "print(decimal.Decimal(\"3\")+decimal.Decimal(\"3.14\"))"
      ],
      "metadata": {
        "colab": {
          "base_uri": "https://localhost:8080/"
        },
        "id": "-2cwR6KcO7Ca",
        "outputId": "6b2aad7f-4665-4dfb-9fd5-d65ee155d449"
      },
      "execution_count": null,
      "outputs": [
        {
          "output_type": "stream",
          "name": "stdout",
          "text": [
            "6.140000000000001\n",
            "6.14\n"
          ]
        }
      ]
    },
    {
      "cell_type": "code",
      "source": [
        "# 練習2: 剪刀石頭布\n",
        "# 規則：電腦是我的上一家時, 我才會贏\n",
        "# Tips: 遇到循環運算case用取餘數(mod)來解決\n",
        "import random\n",
        "guess = [\"剪刀\", \"石頭\", \"布\"]\n",
        "my = int(input(\"0-剪刀、1-石頭、2-布, 請出拳：\"))\n",
        "com = random.randint(0,2)\n",
        "\n",
        "if my not in range(3):\n",
        "  my = int(input(\"格式錯誤, 請重新輸入：\"))\n",
        "print(\"你出的是：\", guess[my])\n",
        "print(\"電腦出的是：\", guess[com])\n",
        "\n",
        "if my == (com+1)%3:\n",
        "  print(\"我贏了! ^＿＿^\")\n",
        "elif com == (my+1)%3:\n",
        "  print(\"電腦贏了! QQ\")\n",
        "else:\n",
        "  print(\"平手！ @@\")"
      ],
      "metadata": {
        "colab": {
          "base_uri": "https://localhost:8080/"
        },
        "id": "MEjZ_ufgXoxQ",
        "outputId": "191c9d55-89d8-4827-9a34-8c9134d26d18"
      },
      "execution_count": null,
      "outputs": [
        {
          "output_type": "stream",
          "name": "stdout",
          "text": [
            "0-剪刀、1-石頭、2-布, 請出拳：3\n",
            "格式錯誤, 請重新輸入：2\n",
            "你出的是： 布\n",
            "電腦出的是： 剪刀\n",
            "電腦贏了! QQ\n"
          ]
        }
      ]
    },
    {
      "cell_type": "code",
      "source": [
        "# 作業：延伸上題 0-5, 各分為 0-2 和 3-5 兩組不同的拳。不同組拳則為平手。\n",
        "# Tips: 分組case用取商數(//)來解決\n",
        "import random\n",
        "# 準備一個翻譯清單, 將原本的0-5換成中文\n",
        "guess = [\"剪刀(0)\", \"石頭(0)\", \"布(0)\",\n",
        "         \"剪刀(1)\", \"石頭(1)\", \"布(1)\"]\n",
        "my = int(input(\"0~5, 請出拳：\"))\n",
        "com = random.randint(0,5)\n",
        "if my not in range(6):\n",
        "  my = int(input(\"格式錯誤, 請重新輸入：\"))\n",
        "print(\"你出的是：\", guess[my])\n",
        "print(\"電腦出的是：\", guess[com])\n",
        "\n",
        "#先分組 (// 只取整數)\n",
        "myGroup=my//3\n",
        "comGroup=com//3\n",
        "if myGroup == comGroup:\n",
        "  #condition 1: 都是 0~2\n",
        "  #condition 2: 都是 3~5\n",
        "  #Tips: 3~5 要取餘數簡化為 0~2\n",
        "  new_my=my%3\n",
        "  new_com=com%3\n",
        "  if new_my == (new_com+1)%3:  #也可以-> if new_my == (new_com-1)%3:\n",
        "    print(\"我贏了! ^＿＿^\")\n",
        "  elif new_com == (new_my+1)%3:  #elif new_com == (new_my+1)%3:\n",
        "    print(\"電腦贏了! QQ\")\n",
        "  else:\n",
        "    print(\"平手(同組)！ @@\")\n",
        "else:\n",
        "  print(\"平手(不同組)！\")"
      ],
      "metadata": {
        "colab": {
          "base_uri": "https://localhost:8080/"
        },
        "id": "O9KH6cSNvMBc",
        "outputId": "ded44096-5335-44d1-abeb-94d3965c91f4"
      },
      "execution_count": null,
      "outputs": [
        {
          "output_type": "stream",
          "name": "stdout",
          "text": [
            "0~5, 請出拳：2\n",
            "你出的是： 布(0)\n",
            "電腦出的是： 剪刀(0)\n",
            "電腦贏了! QQ\n"
          ]
        }
      ]
    }
  ]
}