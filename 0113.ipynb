import urllib.request as req
import bs4 as bs

url = "https://tabelog.com/tw/tokyo/rstLst/1/?SrtT=rt"
response = req.urlopen(url)
html = bs.BeautifulSoup(response)

# find_all: 形態是個類似list的
r_list = html.find_all("div", {"class":"list-rst__body"})
for r in r_list:
    en_name = r.find("a", {"class":"list-rst__rst-name-target"})
    en_name_href = en_name["href"]
    en_name_text = en_name.text
    area = r.find("div", {"class":"list-rst__area-genre"})
    area_text = area.text.strip()
    intro = r.find("p", {"class":"list-rst__pr-title"})
    if intro == None:
        intro_text = "無"
    else:
        intro_text = intro.text.strip()
    rating = r.find("span", {"class":"c-rating__val"})
    rating_text = rating.text
    # 因為晚間和午間長得一模一樣
    prices = r.find_all("span", {"class":"c-rating-v3__val"})
    dinner_price = prices[0].text
    lunch_price = prices[1].text
    holiday = r.find("span", {"class":"list-rst__holiday-text"})
    holiday_text = holiday.text

    print(rating_text)
    print(en_name_text)
    print(en_name_href)
    print(area_text)
    print(intro_text)
    print(holiday_text)
    print("晚間價錢:", dinner_price, "午間價錢:", lunch_price)
    print("-" * 30) 
