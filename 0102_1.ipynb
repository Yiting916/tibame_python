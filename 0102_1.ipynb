{
  "nbformat": 4,
  "nbformat_minor": 0,
  "metadata": {
    "colab": {
      "provenance": [],
      "authorship_tag": "ABX9TyPCeLkHdNQlXRk4vOlfCIjl",
      "include_colab_link": true
    },
    "kernelspec": {
      "name": "python3",
      "display_name": "Python 3"
    },
    "language_info": {
      "name": "python"
    }
  },
  "cells": [
    {
      "cell_type": "markdown",
      "metadata": {
        "id": "view-in-github",
        "colab_type": "text"
      },
      "source": [
        "<a href=\"https://colab.research.google.com/github/Yiting916/tibame_python/blob/main/0102_1.ipynb\" target=\"_parent\"><img src=\"https://colab.research.google.com/assets/colab-badge.svg\" alt=\"Open In Colab\"/></a>"
      ]
    },
    {
      "cell_type": "markdown",
      "source": [
        "# 下載 YT 的影片\n",
        "\n",
        "0. 準備YT影片: 進到YT首頁 -> 網址切為m -> 進F12 -> 切為手機模式 -> 再點選影片\n",
        "1. 取影片第一個和第二個 request url, 通常第一個是影片(mime=video), 第二個會是聲音(或是查找參數有mime=audio)\n",
        "2. 查找網址參數(在?之後)\n",
        "3. content-type:application/vnd.yt-ump --> youtube 的影片格式\n",
        "4. 將ump參數拿掉, 另開網頁看看能不能播放\n",
        "5. 將range移除以取得完整影片\n",
        "6. 下載影片和聲音檔案(2個）\n",
        "7. 使用 ffmpeg 合併影片和聲音檔案。\n",
        "\n",
        "> command: ffmpeg -i 原始影片檔 -i 原始聲音檔 合併後的新檔\n",
        "\n",
        "> /Users/summer/Documents/ffmpeg -i audio_cafedeflore.webm -i video_cafedeflore.mp4 cafedeflore.mp4\n",
        "\n",
        "原 request url:\n",
        "第一個:\n",
        "https://rr3---sn-un57snee.googlevideo.com/videoplayback?expire=1735807010&ei=wvt1Z4uUMuu3vcAPxb220QM&ip=1.171.239.18&id=o-AJAxVA6bWoj8VzXVhr-IVMU1rFnNv6-02WCyx3tdIi2l&itag=134&aitags=134%2C136%2C160%2C243&source=youtube&requiressl=yes&xpc=EgVo2aDSNQ%3D%3D&met=1735785410%2C&mh=jh&mm=31%2C26&mn=sn-un57snee%2Csn-oguelnzl&ms=au%2Conr&mv=m&mvi=3&pl=17&rms=au%2Cau&initcwndbps=635000&siu=1&bui=AfMhrI9OhXnbG0xBkU-5_nLNa4eUCoKHnPxUGkwZM0fMkPDvONLba-PED5xXTMDQyT3wt9TAWg&spc=x-caUFWWVc6aDxm-3Km3gnk5UIoIJExTwkaPfwZYVWva5HLN-n7kH-ESVSUxBbeGXQ&vprv=1&svpuc=1&**mime=video%2Fmp4**&ns=BUF454z2t0Q0p1eYTNY-Y3AQ&rqh=1&gir=yes&clen=3115996&dur=75.366&lmt=1710002927165180&mt=1735784952&fvip=3&keepalive=yes&fexp=51326932%2C51331020%2C51335594&c=MWEB&sefc=1&txp=1432434&n=LJRrfXowjV-M0Q&sparams=expire%2Cei%2Cip%2Cid%2Caitags%2Csource%2Crequiressl%2Cxpc%2Csiu%2Cbui%2Cspc%2Cvprv%2Csvpuc%2Cmime%2Cns%2Crqh%2Cgir%2Cclen%2Cdur%2Clmt&sig=AJfQdSswRQIhAJPW_0O5dqnodbKrWgMDkHq1_Dn04Yk8gehxgQ9VuPKjAiA0WfYyeahPpqIq3GiZkyq4QSmkZeJyZs-OfjAAWhKamQ%3D%3D&lsparams=met%2Cmh%2Cmm%2Cmn%2Cms%2Cmv%2Cmvi%2Cpl%2Crms%2Cinitcwndbps&lsig=AGluJ3MwRgIhAK90tA8XBXvGyh9BnG3Dog49moiRApTqkSXHYtPmO9cWAiEA-LaI2Jxi8a3UP_NkZB2pF_gUCFhcKTneUSbvl9nMY9c%3D&alr=yes&cpn=nNn5Fw_Z8_Z0h7OZ&cver=2.20241219.01.00&**range=0-937**&rn=1&rbuf=0&pot=MlvDXfueVDs7YcNlFULPQ-EScuidPV8jgz1D49cNL0UKRLJnuaydKFNtnZ8WUJiXHhzykRYLjdxIbTOdZZaeZoQYWimxTH2VlgHWIRFyStp5uypizzT001KmvNAo&**ump=1**&srfvp=1\n",
        "\n",
        "第二個：\n",
        "https://rr3---sn-un57snee.googlevideo.com/videoplayback?expire=1735807010&ei=wvt1Z4uUMuu3vcAPxb220QM&ip=1.171.239.18&id=o-AJAxVA6bWoj8VzXVhr-IVMU1rFnNv6-02WCyx3tdIi2l&itag=251&source=youtube&requiressl=yes&xpc=EgVo2aDSNQ%3D%3D&met=1735785410%2C&mh=jh&mm=31%2C26&mn=sn-un57snee%2Csn-oguelnzl&ms=au%2Conr&mv=m&mvi=3&pl=17&rms=au%2Cau&initcwndbps=635000&siu=1&bui=AfMhrI9OhXnbG0xBkU-5_nLNa4eUCoKHnPxUGkwZM0fMkPDvONLba-PED5xXTMDQyT3wt9TAWg&spc=x-caUFWWVc6aDxm-3Km3gnk5UIoIJExTwkaPfwZYVWva5HLN-n7kH-ESVSUxBbeGXQ&vprv=1&svpuc=1&**mime=audio%2Fwebm**&ns=BUF454z2t0Q0p1eYTNY-Y3AQ&rqh=1&gir=yes&clen=1297542&dur=75.441&lmt=1710001796523891&mt=1735784952&fvip=3&keepalive=yes&fexp=51326932%2C51331020%2C51335594&c=MWEB&sefc=1&txp=1432434&n=LJRrfXowjV-M0Q&sparams=expire%2Cei%2Cip%2Cid%2Citag%2Csource%2Crequiressl%2Cxpc%2Csiu%2Cbui%2Cspc%2Cvprv%2Csvpuc%2Cmime%2Cns%2Crqh%2Cgir%2Cclen%2Cdur%2Clmt&sig=AJfQdSswRgIhALcy67hvvMEHSTVw6HGI1_xiDXnh6eSRnZEIP-xT8imVAiEAuJHL3AUD6YySqx_T8KMgsmbU6vdvxOp75MdBg3Ys8hM%3D&lsparams=met%2Cmh%2Cmm%2Cmn%2Cms%2Cmv%2Cmvi%2Cpl%2Crms%2Cinitcwndbps&lsig=AGluJ3MwRgIhAK90tA8XBXvGyh9BnG3Dog49moiRApTqkSXHYtPmO9cWAiEA-LaI2Jxi8a3UP_NkZB2pF_gUCFhcKTneUSbvl9nMY9c%3D&alr=yes&cpn=nNn5Fw_Z8_Z0h7OZ&cver=2.20241219.01.00&**range=0-391**&rn=2&rbuf=0&pot=MlvDXfueVDs7YcNlFULPQ-EScuidPV8jgz1D49cNL0UKRLJnuaydKFNtnZ8WUJiXHhzykRYLjdxIbTOdZZaeZoQYWimxTH2VlgHWIRFyStp5uypizzT001KmvNAo&**ump=1**&srfvp=1\n",
        "\n",
        "\n",
        "\n",
        "fake url:\n",
        "第一個：\n",
        "https://rr3---sn-un57snee.googlevideo.com/videoplayback?expire=1735807010&ei=wvt1Z4uUMuu3vcAPxb220QM&ip=1.171.239.18&id=o-AJAxVA6bWoj8VzXVhr-IVMU1rFnNv6-02WCyx3tdIi2l&itag=134&aitags=134%2C136%2C160%2C243&source=youtube&requiressl=yes&xpc=EgVo2aDSNQ%3D%3D&met=1735785410%2C&mh=jh&mm=31%2C26&mn=sn-un57snee%2Csn-oguelnzl&ms=au%2Conr&mv=m&mvi=3&pl=17&rms=au%2Cau&initcwndbps=635000&siu=1&bui=AfMhrI9OhXnbG0xBkU-5_nLNa4eUCoKHnPxUGkwZM0fMkPDvONLba-PED5xXTMDQyT3wt9TAWg&spc=x-caUFWWVc6aDxm-3Km3gnk5UIoIJExTwkaPfwZYVWva5HLN-n7kH-ESVSUxBbeGXQ&vprv=1&svpuc=1&mime=video%2Fmp4&ns=BUF454z2t0Q0p1eYTNY-Y3AQ&rqh=1&gir=yes&clen=3115996&dur=75.366&lmt=1710002927165180&mt=1735784952&fvip=3&keepalive=yes&fexp=51326932%2C51331020%2C51335594&c=MWEB&sefc=1&txp=1432434&n=LJRrfXowjV-M0Q&sparams=expire%2Cei%2Cip%2Cid%2Caitags%2Csource%2Crequiressl%2Cxpc%2Csiu%2Cbui%2Cspc%2Cvprv%2Csvpuc%2Cmime%2Cns%2Crqh%2Cgir%2Cclen%2Cdur%2Clmt&sig=AJfQdSswRQIhAJPW_0O5dqnodbKrWgMDkHq1_Dn04Yk8gehxgQ9VuPKjAiA0WfYyeahPpqIq3GiZkyq4QSmkZeJyZs-OfjAAWhKamQ%3D%3D&lsparams=met%2Cmh%2Cmm%2Cmn%2Cms%2Cmv%2Cmvi%2Cpl%2Crms%2Cinitcwndbps&lsig=AGluJ3MwRgIhAK90tA8XBXvGyh9BnG3Dog49moiRApTqkSXHYtPmO9cWAiEA-LaI2Jxi8a3UP_NkZB2pF_gUCFhcKTneUSbvl9nMY9c%3D&alr=yes&cpn=nNn5Fw_Z8_Z0h7OZ&cver=2.20241219.01.00&rn=1&rbuf=0&pot=MlvDXfueVDs7YcNlFULPQ-EScuidPV8jgz1D49cNL0UKRLJnuaydKFNtnZ8WUJiXHhzykRYLjdxIbTOdZZaeZoQYWimxTH2VlgHWIRFyStp5uypizzT001KmvNAo&srfvp=1\n",
        "\n",
        "第二個：\n",
        "https://rr3---sn-un57snee.googlevideo.com/videoplayback?expire=1735807010&ei=wvt1Z4uUMuu3vcAPxb220QM&ip=1.171.239.18&id=o-AJAxVA6bWoj8VzXVhr-IVMU1rFnNv6-02WCyx3tdIi2l&itag=251&source=youtube&requiressl=yes&xpc=EgVo2aDSNQ%3D%3D&met=1735785410%2C&mh=jh&mm=31%2C26&mn=sn-un57snee%2Csn-oguelnzl&ms=au%2Conr&mv=m&mvi=3&pl=17&rms=au%2Cau&initcwndbps=635000&siu=1&bui=AfMhrI9OhXnbG0xBkU-5_nLNa4eUCoKHnPxUGkwZM0fMkPDvONLba-PED5xXTMDQyT3wt9TAWg&spc=x-caUFWWVc6aDxm-3Km3gnk5UIoIJExTwkaPfwZYVWva5HLN-n7kH-ESVSUxBbeGXQ&vprv=1&svpuc=1&mime=audio%2Fwebm&ns=BUF454z2t0Q0p1eYTNY-Y3AQ&rqh=1&gir=yes&clen=1297542&dur=75.441&lmt=1710001796523891&mt=1735784952&fvip=3&keepalive=yes&fexp=51326932%2C51331020%2C51335594&c=MWEB&sefc=1&txp=1432434&n=LJRrfXowjV-M0Q&sparams=expire%2Cei%2Cip%2Cid%2Citag%2Csource%2Crequiressl%2Cxpc%2Csiu%2Cbui%2Cspc%2Cvprv%2Csvpuc%2Cmime%2Cns%2Crqh%2Cgir%2Cclen%2Cdur%2Clmt&sig=AJfQdSswRgIhALcy67hvvMEHSTVw6HGI1_xiDXnh6eSRnZEIP-xT8imVAiEAuJHL3AUD6YySqx_T8KMgsmbU6vdvxOp75MdBg3Ys8hM%3D&lsparams=met%2Cmh%2Cmm%2Cmn%2Cms%2Cmv%2Cmvi%2Cpl%2Crms%2Cinitcwndbps&lsig=AGluJ3MwRgIhAK90tA8XBXvGyh9BnG3Dog49moiRApTqkSXHYtPmO9cWAiEA-LaI2Jxi8a3UP_NkZB2pF_gUCFhcKTneUSbvl9nMY9c%3D&alr=yes&cpn=nNn5Fw_Z8_Z0h7OZ&cver=2.20241219.01.00&rn=2&rbuf=0&pot=MlvDXfueVDs7YcNlFULPQ-EScuidPV8jgz1D49cNL0UKRLJnuaydKFNtnZ8WUJiXHhzykRYLjdxIbTOdZZaeZoQYWimxTH2VlgHWIRFyStp5uypizzT001KmvNAo&srfvp=1\n",
        "\n",
        "\n",
        "\n"
      ],
      "metadata": {
        "id": "RKQYaSlEy117"
      }
    },
    {
      "cell_type": "markdown",
      "source": [
        "# 下載動畫 (巴哈姆特動畫瘋 - 吉伊卡哇)\n",
        "1. 找彈幕url\n",
        "> https://api.gamer.com.tw/anime/v1/danmu.php?videoSn=36632&geo=TW%2CHK&limit=50\n",
        "2. (optional) 修改參數 -> 取前100個user -> limit=100\n",
        "> https://api.gamer.com.tw/anime/v1/danmu.php?videoSn=36632&geo=TW%2CHK&limit=100\n",
        "3. 下載動畫-> 找 chunklist (串流的播放清單) -> 複製 request url\n",
        "4. 下 command\n",
        "> ffmpeg -headers 'Origin: https://ani.gamer.com.tw' -i 'https://bahamut.akamaized.net/113448d622788e8a4ee3fe459387b2eab9bb86a1/360p/hdntl=exp=1735876169~acl=%2f113448d622788e8a4ee3fe459387b2eab9bb86a1%2fplaylist_guest.m3u8!%2f113448d622788e8a4ee3fe459387b2eab9bb86a1%2f360p%2f*~data=hdntl,de67bdce45b97ce%3a36632%3a0%3a1%3a52525229%3a0~hmac=112d1b7e99522a1cfed6a5efcd477c7a9558c8bedce00f4e2e5d2986a39b64e2/chunklist_b400000.m3u8' anime.mp4\n",
        "\n",
        "\n",
        "\n",
        "\n",
        "\n",
        "\n",
        "\n",
        "\n"
      ],
      "metadata": {
        "id": "uaFhjNedJjSK"
      }
    }
  ]
}