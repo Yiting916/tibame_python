{
  "nbformat": 4,
  "nbformat_minor": 0,
  "metadata": {
    "colab": {
      "provenance": [],
      "include_colab_link": true
    },
    "kernelspec": {
      "name": "python3",
      "display_name": "Python 3"
    },
    "language_info": {
      "name": "python"
    }
  },
  "cells": [
    {
      "cell_type": "markdown",
      "metadata": {
        "id": "view-in-github",
        "colab_type": "text"
      },
      "source": [
        "<a href=\"https://colab.research.google.com/github/Yiting916/tibame_python/blob/main/0106.ipynb\" target=\"_parent\"><img src=\"https://colab.research.google.com/assets/colab-badge.svg\" alt=\"Open In Colab\"/></a>"
      ]
    },
    {
      "cell_type": "markdown",
      "source": [
        "# 字典形態\n",
        "\n",
        "```python\n",
        "一副撲克牌: [排, 排, ...]\n",
        "整班學生: [學生, 學生, ...]\n",
        "\n",
        "字典型態: 把很多小東西聚集起來, 變成一個複雜的東西\n",
        "\n",
        "字典在每一組的地方, 妳都要幫她準備一個key(是有形態)\n",
        "\n",
        "key: 數字/字串\n",
        "key-value: 連連看\n",
        "\n",
        "名稱 = {\n",
        "    \"name\":\"Elwing\",\n",
        "    \"height\":175\n",
        "}\n",
        "\n",
        "? 如果你今天印出來: 發覺height在name前面有沒有問題\n",
        "-> 沒問題, 字典沒有順序性(key=0,1,2...)\n",
        "\n",
        "字典查詢: [key]\n",
        "```"
      ],
      "metadata": {
        "id": "5cCY4QxwIa96"
      }
    },
    {
      "cell_type": "code",
      "execution_count": null,
      "metadata": {
        "colab": {
          "base_uri": "https://localhost:8080/"
        },
        "id": "_mmwCxZVIV6m",
        "outputId": "ffa7ade0-0bf3-4fae-b6cc-27034d571c66"
      },
      "outputs": [
        {
          "output_type": "stream",
          "name": "stdout",
          "text": [
            "{'name': 'Elwing', 'height': 175}\n",
            "175\n",
            "{'name': 'Elwing', 'height': 175, 'weight': 70}\n",
            "{'name': 'Elwing', 'height': 180, 'weight': 70}\n",
            "! name\n",
            "! height\n",
            "! weight\n"
          ]
        }
      ],
      "source": [
        "student = {\n",
        "    \"name\":\"Elwing\",\n",
        "    \"height\":175\n",
        "}\n",
        "print(student)\n",
        "\n",
        "print(student[\"height\"])\n",
        "\n",
        "# 口訣: 以前你怎麼使用名稱->字典[key]\n",
        "\n",
        "# weight = 80\n",
        "student[\"weight\"] = 70\n",
        "print(student)\n",
        "# height = height + 5\n",
        "student[\"height\"] = student[\"height\"] + 5\n",
        "print(student)\n",
        "\n",
        "# optional\n",
        "for key in student:\n",
        "    print(\"!\", key, student[key])"
      ]
    },
    {
      "cell_type": "markdown",
      "source": [
        "```python\n",
        "爬蟲SOP\n",
        "1. 打開原始碼, 檢查要的東西有沒有在原始碼\n",
        "2. (if yes) 網址=網址列\n",
        "  (if no) 網址=F12->Network找隱藏網址\n",
        "\n",
        "List和Dict是我們最重要的兩個群集形態: JSON格式\n",
        "\n",
        "```"
      ],
      "metadata": {
        "id": "AczIAIhbMSfD"
      }
    },
    {
      "cell_type": "code",
      "source": [
        "import json\n",
        "import urllib.request as req\n",
        "import pandas as pd\n",
        "\n",
        "url = \"https://www.cosmed.com.tw/api/getStore.aspx?t=store&c=&d=&s=\"\n",
        "while True:\n",
        "    f = req.urlopen(url)\n",
        "    # content為bytes形態: 原始的01\n",
        "    content = f.read()\n",
        "    content = content.decode()   #型態轉成 str\n",
        "    if \"Invalid\" in content:\n",
        "        print(\"retry...\")\n",
        "    else:\n",
        "        break\n",
        "\n",
        "content = json.loads(content)  #型態轉成 dict\n",
        "store_list = content[\"data\"]\n",
        "# #準備儲存檔案\n",
        "# f=open(\"cosmed.csv\", \"w\", encoding=\"utf-8\")\n",
        "# f.write(\"店名, 電話\\n\")\n",
        "# #store是一家店, 字典型態\n",
        "# for store in store_list:\n",
        "#     print(store[\"StoreNM\"])\n",
        "#     print(store[\"Tel\"])\n",
        "#     print(store[\"Address\"])\n",
        "#     print(\"-\" * 30)\n",
        "#     f.write(store[\"StoreNM\"])\n",
        "#     f.write(\",\")\n",
        "#     f.write(store[\"Tel\"])\n",
        "#     f.write(\"\\n\")\n",
        "# f.close()\n",
        "\n",
        "#帶入pandas函式\n",
        "df=pd.json_normalize(store_list)\n",
        "df.to_csv(\"cosmed.csv\", encoding=\"utf-8\")\n"
      ],
      "metadata": {
        "id": "By8XZ93UOt3y"
      },
      "execution_count": 21,
      "outputs": []
    },
    {
      "cell_type": "code",
      "source": [
        "#取巴哈姆特動畫瘋的彈幕\n",
        "import urllib.request as req\n",
        "import json\n",
        "\n",
        "url=\"https://api.gamer.com.tw/anime/v1/danmu.php?videoSn=25562&geo=TW%2CHK\"\n",
        "f=req.urlopen(url)\n",
        "\n",
        "content=f.read()\n",
        "content=content.decode()\n",
        "content=json.loads(content)\n",
        "\n",
        "f=open(\"danmu.csv\",\"w\",encoding=\"utf-8\")\n",
        "f.write(\"時間, id, 彈幕\\n\")\n",
        "danmu_list=content[\"data\"][\"danmu\"]  #data={danmu:[],totalCount}\n",
        "for danmu in danmu_list:\n",
        "  print(\n",
        "      danmu[\"time\"], \",\",\n",
        "      danmu[\"userid\"], \",\",\n",
        "#      danmu[\"text\"], -> 太多特殊符號, 導致 parse error\n",
        "      file=f\n",
        "  )\n",
        "\n",
        "f.close()"
      ],
      "metadata": {
        "id": "AYtpE-_Bh6QD"
      },
      "execution_count": 18,
      "outputs": []
    },
    {
      "cell_type": "code",
      "source": [
        "#----- pandas: 表格處理函式庫\n",
        "import urllib.request as req\n",
        "import json\n",
        "import pandas as pd\n",
        "\n",
        "url=\"https://api.gamer.com.tw/anime/v1/danmu.php?videoSn=25562&geo=TW%2CHK\"\n",
        "f=req.urlopen(url)\n",
        "\n",
        "content=f.read()\n",
        "content=content.decode()\n",
        "content=json.loads(content)\n",
        "danmu_list=content[\"data\"][\"danmu\"]\n",
        "\n",
        "#把list轉換成 pandas表格型態 (DataFrame)\n",
        "df=pd.json_normalize(danmu_list)\n",
        "#用dataframe專屬功能寫入csv (to_xxx)\n",
        "df.to_csv(\"danmu.csv\", encoding=\"utf-8\")"
      ],
      "metadata": {
        "id": "e4l-Kuk1qqwz"
      },
      "execution_count": 19,
      "outputs": []
    },
    {
      "cell_type": "code",
      "source": [],
      "metadata": {
        "id": "ZWPvTvVPtdV2"
      },
      "execution_count": null,
      "outputs": []
    }
  ]
}