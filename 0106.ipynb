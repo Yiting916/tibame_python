{
  "nbformat": 4,
  "nbformat_minor": 0,
  "metadata": {
    "colab": {
      "provenance": [],
      "include_colab_link": true
    },
    "kernelspec": {
      "name": "python3",
      "display_name": "Python 3"
    },
    "language_info": {
      "name": "python"
    }
  },
  "cells": [
    {
      "cell_type": "markdown",
      "metadata": {
        "id": "view-in-github",
        "colab_type": "text"
      },
      "source": [
        "<a href=\"https://colab.research.google.com/github/Yiting916/tibame_python/blob/main/0106.ipynb\" target=\"_parent\"><img src=\"https://colab.research.google.com/assets/colab-badge.svg\" alt=\"Open In Colab\"/></a>"
      ]
    },
    {
      "cell_type": "markdown",
      "source": [
        "# 字典形態\n",
        "\n",
        "```python\n",
        "一副撲克牌: [排, 排, ...]\n",
        "整班學生: [學生, 學生, ...]\n",
        "\n",
        "字典型態: 把很多小東西聚集起來, 變成一個複雜的東西\n",
        "\n",
        "字典在每一組的地方, 妳都要幫她準備一個key(是有形態)\n",
        "\n",
        "key: 數字/字串\n",
        "key-value: 連連看\n",
        "\n",
        "名稱 = {\n",
        "    \"name\":\"Elwing\",\n",
        "    \"height\":175\n",
        "}\n",
        "\n",
        "? 如果你今天印出來: 發覺height在name前面有沒有問題\n",
        "-> 沒問題, 字典沒有順序性(key=0,1,2...)\n",
        "\n",
        "字典查詢: [key]\n",
        "```"
      ],
      "metadata": {
        "id": "5cCY4QxwIa96"
      }
    },
    {
      "cell_type": "code",
      "execution_count": null,
      "metadata": {
        "colab": {
          "base_uri": "https://localhost:8080/"
        },
        "id": "_mmwCxZVIV6m",
        "outputId": "ffa7ade0-0bf3-4fae-b6cc-27034d571c66"
      },
      "outputs": [
        {
          "output_type": "stream",
          "name": "stdout",
          "text": [
            "{'name': 'Elwing', 'height': 175}\n",
            "175\n",
            "{'name': 'Elwing', 'height': 175, 'weight': 70}\n",
            "{'name': 'Elwing', 'height': 180, 'weight': 70}\n",
            "! name\n",
            "! height\n",
            "! weight\n"
          ]
        }
      ],
      "source": [
        "student = {\n",
        "    \"name\":\"Elwing\",\n",
        "    \"height\":175\n",
        "}\n",
        "print(student)\n",
        "\n",
        "print(student[\"height\"])\n",
        "\n",
        "# 口訣: 以前你怎麼使用名稱->字典[key]\n",
        "\n",
        "# weight = 80\n",
        "student[\"weight\"] = 70\n",
        "print(student)\n",
        "# height = height + 5\n",
        "student[\"height\"] = student[\"height\"] + 5\n",
        "print(student)\n",
        "\n",
        "# optional\n",
        "for key in student:\n",
        "    print(\"!\", key, student[key])"
      ]
    },
    {
      "cell_type": "markdown",
      "source": [
        "```python\n",
        "爬蟲SOP\n",
        "1. 打開原始碼, 檢查要的東西有沒有在原始碼\n",
        "2. (if yes) 網址=網址列\n",
        "  (if no) 網址=F12->Network找隱藏網址\n",
        "\n",
        "List和Dict是我們最重要的兩個群集形態: JSON格式\n",
        "\n",
        "```"
      ],
      "metadata": {
        "id": "AczIAIhbMSfD"
      }
    },
    {
      "cell_type": "code",
      "source": [
        "import json\n",
        "import urllib.request as req\n",
        "\n",
        "while True:\n",
        "    url = \"https://www.cosmed.com.tw/api/getStore.aspx?t=store&c=&d=&s=\"\n",
        "    f = req.urlopen(url)\n",
        "    # content為bytes形態: 原始的01\n",
        "    content = f.read()\n",
        "    # bytes形態有一個叫做decode的專屬功能, 幫妳轉換形態str\n",
        "    content = content.decode()\n",
        "    # print(type(content))\n",
        "    if \"Invalid\" in content:\n",
        "        print(\"retry...\")\n",
        "    else:\n",
        "        break\n",
        "\n",
        "#準備儲存檔案\n",
        "content = json.loads(content)\n",
        "f=open(\"cosmed.csv\", \"w\", encoding=\"utf-8\")\n",
        "f.write(\"店名\", \"電話\\n\")\n",
        "store_list = content[\"data\"]\n",
        "# store是一家店(字典)\n",
        "\n",
        "for store in store_list:\n",
        "    print(store[\"StoreNM\"])\n",
        "    print(store[\"Tel\"])\n",
        "    print(store[\"Address\"])\n",
        "    print(\"-\" * 30)\n",
        "    f.write(store[\"StoreNM\"])\n",
        "    f.write(store[\",\"])\n",
        "    f.write(store[\"Tel\"])\n",
        "    f.write(store[\"\\n\"])\n",
        "\n",
        "f.close()"
      ],
      "metadata": {
        "colab": {
          "base_uri": "https://localhost:8080/"
        },
        "id": "By8XZ93UOt3y",
        "outputId": "45293872-67e8-48be-f5d9-16c23e676753"
      },
      "execution_count": null,
      "outputs": [
        {
          "output_type": "stream",
          "name": "stdout",
          "text": [
            "retry...\n",
            "retry...\n",
            "retry...\n",
            "retry...\n",
            "retry...\n",
            "retry...\n",
            "retry...\n",
            "retry...\n",
            "retry...\n",
            "retry...\n",
            "retry...\n",
            "retry...\n",
            "retry...\n",
            "retry...\n",
            "retry...\n",
            "retry...\n",
            "retry...\n"
          ]
        }
      ]
    }
  ]
}