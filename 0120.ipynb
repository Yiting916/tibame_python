{
  "nbformat": 4,
  "nbformat_minor": 0,
  "metadata": {
    "colab": {
      "provenance": [],
      "authorship_tag": "ABX9TyNUZqeiMRGRww6swxfYV2gq",
      "include_colab_link": true
    },
    "kernelspec": {
      "name": "python3",
      "display_name": "Python 3"
    },
    "language_info": {
      "name": "python"
    }
  },
  "cells": [
    {
      "cell_type": "markdown",
      "metadata": {
        "id": "view-in-github",
        "colab_type": "text"
      },
      "source": [
        "<a href=\"https://colab.research.google.com/github/Yiting916/tibame_python/blob/main/0120.ipynb\" target=\"_parent\"><img src=\"https://colab.research.google.com/assets/colab-badge.svg\" alt=\"Open In Colab\"/></a>"
      ]
    },
    {
      "cell_type": "code",
      "source": [
        "# demo一下requests函式庫\n",
        "import requests\n",
        "import bs4 as bs\n",
        "url = \"https://www.ptt.cc/bbs/Beauty/index3950.html\"\n",
        "response = requests.get(url)\n",
        "print(response.status_code)\n",
        "# 你可以看他當初送出的headers\n",
        "print(response.request.headers)\n",
        "print(response.headers)\n",
        "# !!!!!!!!!!!!!! 記得要用的時候要.text\n",
        "bs.BeautifulSoup(response.text)\n",
        ""
      ],
      "metadata": {
        "id": "6RJ0gvA62Rst"
      },
      "execution_count": null,
      "outputs": []
    },
    {
      "cell_type": "code",
      "execution_count": 10,
      "metadata": {
        "colab": {
          "base_uri": "https://localhost:8080/"
        },
        "id": "0ym_Hx2ltDeL",
        "outputId": "65865957-22ba-4e7b-8c78-6e412df143ed"
      },
      "outputs": [
        {
          "output_type": "stream",
          "name": "stdout",
          "text": [
            "0803 06:15 08:40 02:25\n",
            "1103 06:35 08:20 01:45\n",
            "0603 06:40 08:50 02:10\n",
            "0805 07:00 09:25 02:25\n",
            "0109 07:20 09:05 01:45\n",
            "0609 07:35 09:45 02:10\n",
            "0205 07:40 09:30 01:50\n",
            "1305 07:50 10:00 02:10\n",
            "0809 08:00 10:25 02:25\n",
            "0613 08:10 10:20 02:10\n",
            "0207 08:20 10:10 01:50\n",
            "0615 08:35 10:45 02:10\n",
            "1209 08:40 10:30 01:50\n",
            "0813 09:00 11:25 02:25\n",
            "0619 09:10 11:20 02:10\n",
            "0117 09:20 11:05 01:45\n",
            "0621 09:35 11:45 02:10\n",
            "1213 09:40 11:30 01:50\n",
            "0817 10:00 12:25 02:25\n",
            "0625 10:10 12:20 02:10\n",
            "0121 10:20 12:05 01:45\n",
            "0627 10:35 12:45 02:10\n",
            "1311 10:50 13:00 02:10\n",
            "0821 11:00 13:25 02:25\n",
            "1631 11:10 13:20 02:10\n",
            "0125 11:20 13:05 01:45\n",
            "0633 11:35 13:45 02:10\n",
            "0825 12:00 14:25 02:25\n",
            "0129 12:20 14:05 01:45\n",
            "0639 12:35 14:45 02:10\n",
            "0829 13:00 15:25 02:25\n",
            "1643 13:10 15:20 02:10\n",
            "0133 13:20 15:05 01:45\n",
            "0645 13:35 15:45 02:10\n",
            "0833 14:00 16:25 02:25\n",
            "0649 14:10 16:20 02:10\n",
            "0137 14:20 16:05 01:45\n",
            "0651 14:35 16:45 02:10\n",
            "0837 15:00 17:25 02:25\n",
            "0655 15:10 17:20 02:10\n",
            "0141 15:20 17:05 01:45\n",
            "0657 15:35 17:45 02:10\n",
            "1321 15:50 18:00 02:10\n",
            "0841 16:00 18:25 02:25\n",
            "0661 16:10 18:20 02:10\n",
            "0145 16:20 18:05 01:45\n",
            "0663 16:35 18:45 02:10\n",
            "1241 16:40 18:30 01:50\n",
            "0845 17:00 19:25 02:25\n",
            "0667 17:10 19:20 02:10\n",
            "0149 17:20 19:05 01:45\n",
            "0669 17:35 19:45 02:10\n",
            "0849 18:00 20:25 02:25\n",
            "0673 18:10 20:20 02:10\n",
            "0153 18:20 20:05 01:45\n",
            "0675 18:35 20:45 02:10\n",
            "0249 18:40 20:30 01:50\n",
            "0853 19:00 21:25 02:25\n",
            "0157 19:20 21:05 01:45\n",
            "0681 19:35 21:45 02:10\n",
            "0857 20:00 22:25 02:25\n",
            "0161 20:20 22:05 01:45\n",
            "0687 20:35 22:45 02:10\n",
            "0861 21:00 23:25 02:25\n",
            "0165 21:20 23:05 01:45\n",
            "0693 21:30 23:40 02:10\n",
            "0333 21:45 23:55 02:10\n",
            "0295 22:05 23:59 01:54\n"
          ]
        }
      ],
      "source": [
        "import json\n",
        "import requests\n",
        "import pandas as pd\n",
        "\n",
        "url = \"https://www.thsrc.com.tw/TimeTable/Search\"\n",
        "data = {\n",
        "    \"SearchType\": \"S\",\n",
        "    \"Lang\": \"TW\",\n",
        "    \"StartStation\": \"NanGang\",\n",
        "    \"EndStation\": \"ZuoYing\",\n",
        "    \"OutWardSearchDate\": \"2025/01/20\",\n",
        "    \"OutWardSearchTime\": \"11:30\",\n",
        "    \"ReturnSearchDate\": \"2025/01/20\",\n",
        "    \"ReturnSearchTime\": \"11:30\",\n",
        "    \"DiscountType\":\"\",\n",
        "}\n",
        "h = {\n",
        "    \"user-agent\":\"Mozilla/5.0 (Windows NT 10.0; Win64; x64) AppleWebKit/537.36 (KHTML, like Gecko) Chrome/131.0.0.0 Safari/537.36 Edg/131.0.0.0\"\n",
        "}\n",
        "response = requests.post(url, data, headers=h)\n",
        "# print(response.status_code)\n",
        "result = json.loads(response.text)\n",
        "# result->dict result[\"data\"]->dict result[\"data\"][\"depature...\"]->dict\n",
        "data = result[\"data\"][\"DepartureTable\"]\n",
        "train_list = data[\"TrainItem\"]\n",
        "# train->dict\n",
        "for train in train_list:\n",
        "    train_number = train[\"TrainNumber\"]\n",
        "    train_depart_time = train[\"DepartureTime\"]\n",
        "    train_dest_time = train[\"DestinationTime\"]\n",
        "    train_duration = train[\"Duration\"]\n",
        "    print(train_number,\n",
        "       train_depart_time,\n",
        "       train_dest_time,\n",
        "       train_duration)\n",
        "\n",
        "df = pd.json_normalize(train_list)\n",
        "df.to_csv(\"0120.csv\", encoding=\"utf-8\")"
      ]
    },
    {
      "cell_type": "markdown",
      "source": [
        "\n",
        "\n",
        "``` Python\n",
        "妳對應錯誤應該有兩種方法\n",
        "1. 事前預防: if-else\n",
        "例子(bs)\n",
        "if xxxx == None:\n",
        "    xxx\n",
        "else:\n",
        "    xxx.text\n",
        "\n",
        "2. 事後解決: 準備好一個措施來應對隨時會發生的錯誤\n",
        "\n",
        "try:\n",
        "    xxx\n",
        "    xxx\n",
        "    xxx\n",
        "except 某個錯誤:\n",
        "    措施\n",
        "\n",
        "a. 沒有發生錯誤: 完全不會跑到except\n",
        "b. 發生錯誤(妳有except): 中斷try. 去執行except措施\n",
        "c. 發生錯誤(妳沒有except): 中斷, 紅字\n",
        "```\n",
        "\n"
      ],
      "metadata": {
        "id": "7SnQ-DdetbKt"
      }
    },
    {
      "cell_type": "code",
      "source": [
        "# 1. selenium 2. webdriver-manager\n",
        "import time\n",
        "from selenium.webdriver.chrome.service import Service\n",
        "from webdriver_manager.chrome import ChromeDriverManager\n",
        "from selenium import webdriver\n",
        "from selenium.webdriver.common.by import By\n",
        "from selenium.webdriver.common.keys import Keys\n",
        "from selenium.common.exceptions import NoSuchElementException\n",
        "\n",
        "# 如果不做設置, chrome視窗有可能會自動關閉\n",
        "options = webdriver.ChromeOptions()\n",
        "options.add_experimental_option(\"detach\", True)\n",
        "\n",
        "driver = webdriver.Chrome(options=options,\n",
        "                          service=Service(ChromeDriverManager().install()))\n",
        "\n",
        "driver.get(\"https://ani.gamer.com.tw/\")\n",
        "driver.maximize_window()\n",
        "\n",
        "# click() 點擊\n",
        "# send_keys(參數) 輸入\n",
        "# selenium 和 beautifulsoup的差別\n",
        "# bs: find           find_all\n",
        "# se: find_element   find_elements\n",
        "e = driver.find_element(By.ID, \"anime-search-sky\")\n",
        "e.send_keys(\"鬼滅之刃\")\n",
        "time.sleep(1)\n",
        "e.send_keys(Keys.ENTER)\n",
        "\n",
        "# 找到他的搜尋結果\n",
        "es = driver.find_elements(By.CLASS_NAME, \"theme-list-main\")\n",
        "for e in es:\n",
        "    try:\n",
        "        # bs 和 se 的比較\n",
        "        # bs: [\"href\"] .text\n",
        "        # se: get_attribute(\"href\")  .text\n",
        "        link = e.get_attribute(\"href\")\n",
        "        ttime = e.find_element(By.CLASS_NAME, \"theme-time\")\n",
        "        ttime_text = ttime.text\n",
        "        tname = e.find_element(By.CLASS_NAME, \"theme-name\")\n",
        "        tname_text = tname.text\n",
        "        print(tname_text, ttime_text)\n",
        "        print(link)\n",
        "        print(\"-\" * 30)\n",
        "    except NoSuchElementException:\n",
        "        print(\"pass\")\n",
        "        print(\"-\" * 30)\n",
        "\n",
        "time.sleep(1)\n",
        "driver.close()"
      ],
      "metadata": {
        "colab": {
          "base_uri": "https://localhost:8080/",
          "height": 387
        },
        "id": "MIA_dW1khgBL",
        "outputId": "e908d725-eb4c-4862-8438-3397e3b4cd18"
      },
      "execution_count": 12,
      "outputs": [
        {
          "output_type": "error",
          "ename": "ModuleNotFoundError",
          "evalue": "No module named 'selenium'",
          "traceback": [
            "\u001b[0;31m---------------------------------------------------------------------------\u001b[0m",
            "\u001b[0;31mModuleNotFoundError\u001b[0m                       Traceback (most recent call last)",
            "\u001b[0;32m<ipython-input-12-12c8b4497242>\u001b[0m in \u001b[0;36m<cell line: 0>\u001b[0;34m()\u001b[0m\n\u001b[1;32m      1\u001b[0m \u001b[0;31m# 1. selenium 2. webdriver-manager\u001b[0m\u001b[0;34m\u001b[0m\u001b[0;34m\u001b[0m\u001b[0m\n\u001b[1;32m      2\u001b[0m \u001b[0;32mimport\u001b[0m \u001b[0mtime\u001b[0m\u001b[0;34m\u001b[0m\u001b[0;34m\u001b[0m\u001b[0m\n\u001b[0;32m----> 3\u001b[0;31m \u001b[0;32mfrom\u001b[0m \u001b[0mselenium\u001b[0m\u001b[0;34m.\u001b[0m\u001b[0mwebdriver\u001b[0m\u001b[0;34m.\u001b[0m\u001b[0mchrome\u001b[0m\u001b[0;34m.\u001b[0m\u001b[0mservice\u001b[0m \u001b[0;32mimport\u001b[0m \u001b[0mService\u001b[0m\u001b[0;34m\u001b[0m\u001b[0;34m\u001b[0m\u001b[0m\n\u001b[0m\u001b[1;32m      4\u001b[0m \u001b[0;32mfrom\u001b[0m \u001b[0mwebdriver_manager\u001b[0m\u001b[0;34m.\u001b[0m\u001b[0mchrome\u001b[0m \u001b[0;32mimport\u001b[0m \u001b[0mChromeDriverManager\u001b[0m\u001b[0;34m\u001b[0m\u001b[0;34m\u001b[0m\u001b[0m\n\u001b[1;32m      5\u001b[0m \u001b[0;32mfrom\u001b[0m \u001b[0mselenium\u001b[0m \u001b[0;32mimport\u001b[0m \u001b[0mwebdriver\u001b[0m\u001b[0;34m\u001b[0m\u001b[0;34m\u001b[0m\u001b[0m\n",
            "\u001b[0;31mModuleNotFoundError\u001b[0m: No module named 'selenium'",
            "",
            "\u001b[0;31m---------------------------------------------------------------------------\u001b[0;32m\nNOTE: If your import is failing due to a missing package, you can\nmanually install dependencies using either !pip or !apt.\n\nTo view examples of installing some common dependencies, click the\n\"Open Examples\" button below.\n\u001b[0;31m---------------------------------------------------------------------------\u001b[0m\n"
          ],
          "errorDetails": {
            "actions": [
              {
                "action": "open_url",
                "actionText": "Open Examples",
                "url": "/notebooks/snippets/importing_libraries.ipynb"
              }
            ]
          }
        }
      ]
    }
  ]
}