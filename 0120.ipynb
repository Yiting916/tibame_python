{
  "nbformat": 4,
  "nbformat_minor": 0,
  "metadata": {
    "colab": {
      "provenance": [],
      "authorship_tag": "ABX9TyPqLltFVUDh4ukPz5ZaPI1T",
      "include_colab_link": true
    },
    "kernelspec": {
      "name": "python3",
      "display_name": "Python 3"
    },
    "language_info": {
      "name": "python"
    }
  },
  "cells": [
    {
      "cell_type": "markdown",
      "metadata": {
        "id": "view-in-github",
        "colab_type": "text"
      },
      "source": [
        "<a href=\"https://colab.research.google.com/github/Yiting916/tibame_python/blob/main/0120.ipynb\" target=\"_parent\"><img src=\"https://colab.research.google.com/assets/colab-badge.svg\" alt=\"Open In Colab\"/></a>"
      ]
    },
    {
      "cell_type": "code",
      "source": [
        "# demo一下requests函式庫\n",
        "import requests\n",
        "import bs4 as bs\n",
        "url = \"https://www.ptt.cc/bbs/Beauty/index3950.html\"\n",
        "response = requests.get(url)\n",
        "print(response.status_code)\n",
        "# 你可以看他當初送出的headers\n",
        "print(response.request.headers)\n",
        "print(response.headers)\n",
        "# !!!!!!!!!!!!!! 記得要用的時候要.text\n",
        "bs.BeautifulSoup(response.text)\n",
        ""
      ],
      "metadata": {
        "id": "6RJ0gvA62Rst"
      },
      "execution_count": null,
      "outputs": []
    },
    {
      "cell_type": "code",
      "execution_count": 10,
      "metadata": {
        "colab": {
          "base_uri": "https://localhost:8080/"
        },
        "id": "0ym_Hx2ltDeL",
        "outputId": "65865957-22ba-4e7b-8c78-6e412df143ed"
      },
      "outputs": [
        {
          "output_type": "stream",
          "name": "stdout",
          "text": [
            "0803 06:15 08:40 02:25\n",
            "1103 06:35 08:20 01:45\n",
            "0603 06:40 08:50 02:10\n",
            "0805 07:00 09:25 02:25\n",
            "0109 07:20 09:05 01:45\n",
            "0609 07:35 09:45 02:10\n",
            "0205 07:40 09:30 01:50\n",
            "1305 07:50 10:00 02:10\n",
            "0809 08:00 10:25 02:25\n",
            "0613 08:10 10:20 02:10\n",
            "0207 08:20 10:10 01:50\n",
            "0615 08:35 10:45 02:10\n",
            "1209 08:40 10:30 01:50\n",
            "0813 09:00 11:25 02:25\n",
            "0619 09:10 11:20 02:10\n",
            "0117 09:20 11:05 01:45\n",
            "0621 09:35 11:45 02:10\n",
            "1213 09:40 11:30 01:50\n",
            "0817 10:00 12:25 02:25\n",
            "0625 10:10 12:20 02:10\n",
            "0121 10:20 12:05 01:45\n",
            "0627 10:35 12:45 02:10\n",
            "1311 10:50 13:00 02:10\n",
            "0821 11:00 13:25 02:25\n",
            "1631 11:10 13:20 02:10\n",
            "0125 11:20 13:05 01:45\n",
            "0633 11:35 13:45 02:10\n",
            "0825 12:00 14:25 02:25\n",
            "0129 12:20 14:05 01:45\n",
            "0639 12:35 14:45 02:10\n",
            "0829 13:00 15:25 02:25\n",
            "1643 13:10 15:20 02:10\n",
            "0133 13:20 15:05 01:45\n",
            "0645 13:35 15:45 02:10\n",
            "0833 14:00 16:25 02:25\n",
            "0649 14:10 16:20 02:10\n",
            "0137 14:20 16:05 01:45\n",
            "0651 14:35 16:45 02:10\n",
            "0837 15:00 17:25 02:25\n",
            "0655 15:10 17:20 02:10\n",
            "0141 15:20 17:05 01:45\n",
            "0657 15:35 17:45 02:10\n",
            "1321 15:50 18:00 02:10\n",
            "0841 16:00 18:25 02:25\n",
            "0661 16:10 18:20 02:10\n",
            "0145 16:20 18:05 01:45\n",
            "0663 16:35 18:45 02:10\n",
            "1241 16:40 18:30 01:50\n",
            "0845 17:00 19:25 02:25\n",
            "0667 17:10 19:20 02:10\n",
            "0149 17:20 19:05 01:45\n",
            "0669 17:35 19:45 02:10\n",
            "0849 18:00 20:25 02:25\n",
            "0673 18:10 20:20 02:10\n",
            "0153 18:20 20:05 01:45\n",
            "0675 18:35 20:45 02:10\n",
            "0249 18:40 20:30 01:50\n",
            "0853 19:00 21:25 02:25\n",
            "0157 19:20 21:05 01:45\n",
            "0681 19:35 21:45 02:10\n",
            "0857 20:00 22:25 02:25\n",
            "0161 20:20 22:05 01:45\n",
            "0687 20:35 22:45 02:10\n",
            "0861 21:00 23:25 02:25\n",
            "0165 21:20 23:05 01:45\n",
            "0693 21:30 23:40 02:10\n",
            "0333 21:45 23:55 02:10\n",
            "0295 22:05 23:59 01:54\n"
          ]
        }
      ],
      "source": [
        "import json\n",
        "import requests\n",
        "import pandas as pd\n",
        "\n",
        "url = \"https://www.thsrc.com.tw/TimeTable/Search\"\n",
        "data = {\n",
        "    \"SearchType\": \"S\",\n",
        "    \"Lang\": \"TW\",\n",
        "    \"StartStation\": \"NanGang\",\n",
        "    \"EndStation\": \"ZuoYing\",\n",
        "    \"OutWardSearchDate\": \"2025/01/20\",\n",
        "    \"OutWardSearchTime\": \"11:30\",\n",
        "    \"ReturnSearchDate\": \"2025/01/20\",\n",
        "    \"ReturnSearchTime\": \"11:30\",\n",
        "    \"DiscountType\":\"\",\n",
        "}\n",
        "h = {\n",
        "    \"user-agent\":\"Mozilla/5.0 (Windows NT 10.0; Win64; x64) AppleWebKit/537.36 (KHTML, like Gecko) Chrome/131.0.0.0 Safari/537.36 Edg/131.0.0.0\"\n",
        "}\n",
        "response = requests.post(url, data, headers=h)\n",
        "# print(response.status_code)\n",
        "result = json.loads(response.text)\n",
        "# result->dict result[\"data\"]->dict result[\"data\"][\"depature...\"]->dict\n",
        "data = result[\"data\"][\"DepartureTable\"]\n",
        "train_list = data[\"TrainItem\"]\n",
        "# train->dict\n",
        "for train in train_list:\n",
        "    train_number = train[\"TrainNumber\"]\n",
        "    train_depart_time = train[\"DepartureTime\"]\n",
        "    train_dest_time = train[\"DestinationTime\"]\n",
        "    train_duration = train[\"Duration\"]\n",
        "    print(train_number,\n",
        "       train_depart_time,\n",
        "       train_dest_time,\n",
        "       train_duration)\n",
        "\n",
        "df = pd.json_normalize(train_list)\n",
        "df.to_csv(\"0120.csv\", encoding=\"utf-8\")"
      ]
    }
  ]
}