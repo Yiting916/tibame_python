{
  "nbformat": 4,
  "nbformat_minor": 0,
  "metadata": {
    "colab": {
      "provenance": [],
      "mount_file_id": "132lCuvGR3asF5y3KClBimI_qOXfDlydB",
      "authorship_tag": "ABX9TyMfSFaGyFTh3rUnXNwnoeXt",
      "include_colab_link": true
    },
    "kernelspec": {
      "name": "python3",
      "display_name": "Python 3"
    },
    "language_info": {
      "name": "python"
    }
  },
  "cells": [
    {
      "cell_type": "markdown",
      "metadata": {
        "id": "view-in-github",
        "colab_type": "text"
      },
      "source": [
        "<a href=\"https://colab.research.google.com/github/Yiting916/tibame_python/blob/main/0102_2.ipynb\" target=\"_parent\"><img src=\"https://colab.research.google.com/assets/colab-badge.svg\" alt=\"Open In Colab\"/></a>"
      ]
    },
    {
      "cell_type": "code",
      "execution_count": 1,
      "metadata": {
        "id": "CdcwIXvCx4rK"
      },
      "outputs": [],
      "source": [
        "#------ open() 永遠指定 encoding=\"utf-8\"\n",
        "f=open(\"a.txt\",\"w\",encoding=\"utf-8\")\n",
        "f.write(\"abc\\n\")\n",
        "f.write(\"\")\n",
        "f.close()"
      ]
    },
    {
      "cell_type": "code",
      "source": [
        "f=open(\"sample_data/README.md\",\"r\",encoding=\"utf-8\")\n",
        "content=f.read()\n",
        "print(content)\n",
        "f.close()"
      ],
      "metadata": {
        "colab": {
          "base_uri": "https://localhost:8080/"
        },
        "id": "w8aQLDtc2psi",
        "outputId": "ffd2dd78-78c0-46bf-882f-d13ac3c44bec"
      },
      "execution_count": 3,
      "outputs": [
        {
          "output_type": "stream",
          "name": "stdout",
          "text": [
            "This directory includes a few sample datasets to get you started.\n",
            "\n",
            "*   `california_housing_data*.csv` is California housing data from the 1990 US\n",
            "    Census; more information is available at:\n",
            "    https://docs.google.com/document/d/e/2PACX-1vRhYtsvc5eOR2FWNCwaBiKL6suIOrxJig8LcSBbmCbyYsayia_DvPOOBlXZ4CAlQ5nlDD8kTaIDRwrN/pub\n",
            "\n",
            "*   `mnist_*.csv` is a small sample of the\n",
            "    [MNIST database](https://en.wikipedia.org/wiki/MNIST_database), which is\n",
            "    described at: http://yann.lecun.com/exdb/mnist/\n",
            "\n",
            "*   `anscombe.json` contains a copy of\n",
            "    [Anscombe's quartet](https://en.wikipedia.org/wiki/Anscombe%27s_quartet); it\n",
            "    was originally described in\n",
            "\n",
            "    Anscombe, F. J. (1973). 'Graphs in Statistical Analysis'. American\n",
            "    Statistician. 27 (1): 17-21. JSTOR 2682899.\n",
            "\n",
            "    and our copy was prepared by the\n",
            "    [vega_datasets library](https://github.com/altair-viz/vega_datasets/blob/4f67bdaad10f45e3549984e17e1b3088c731503d/vega_datasets/_data/anscombe.json).\n",
            "\n"
          ]
        }
      ]
    },
    {
      "cell_type": "code",
      "source": [
        "#----- list 基本操作\n",
        "scores=[30,20,60,60,40]\n",
        "print(sum(scores),\n",
        "      max(scores),\n",
        "      min(scores),\n",
        "      len(scores))\n",
        "print(60 in scores)\n",
        "\n",
        "#反向(key)操作 [-1], [-2]...\n",
        "print(scores[len(scores)-1])\n",
        "print(scores[-1])\n",
        "\n",
        "#包含前面的key, 但不包含後面的key\n",
        "print(scores[1:4])\n",
        "print(scores[1:-1])\n",
        "\n",
        "#k沒寫就是從0開始或是到最後一個\n",
        "print(scores[:4])\n",
        "print(scores[1:])\n",
        "\n",
        "#跳號(從第一個開始跳): score[開始：最後（不包含):幾個一跳]\n",
        "print(scores[1:5:2])\n",
        "#偶數跳\n",
        "print(scores[1::2])\n",
        "#奇數跳\n",
        "print(scores[::2])\n",
        "#跳號正的：由左到右, 跳號負的：由右到左\n",
        "print(scores[::-1])"
      ],
      "metadata": {
        "colab": {
          "base_uri": "https://localhost:8080/"
        },
        "id": "FJRBkzN-9jeq",
        "outputId": "900b8a4b-cbc0-472c-dd97-042cda288874"
      },
      "execution_count": 13,
      "outputs": [
        {
          "output_type": "stream",
          "name": "stdout",
          "text": [
            "210 60 20 5\n",
            "True\n",
            "40\n",
            "40\n",
            "[20, 60, 60]\n",
            "[20, 60, 60]\n",
            "[30, 20, 60, 60]\n",
            "[20, 60, 60, 40]\n",
            "[20, 60]\n",
            "[20, 60]\n",
            "[30, 60, 40]\n",
            "[40, 60, 60, 20, 30]\n"
          ]
        }
      ]
    },
    {
      "cell_type": "code",
      "source": [
        "#------ for ... in ... 依序走過list中的所有值\n",
        "# ----> 算及格人數\n",
        "scores=[60,80,20,30,50]\n",
        "# #寫法1:\n",
        "# total=0\n",
        "# i=0\n",
        "# while i<len(scores):\n",
        "#   if scores[i] >= 60:\n",
        "#     total+=1\n",
        "#   i+=1\n",
        "# print(\"及格人數：\",total)\n",
        "\n",
        "#寫法2:\n",
        "total=0\n",
        "for s in scores:\n",
        "  if s>=60:\n",
        "    total+=1\n",
        "print(\"及格人數：\",total)"
      ],
      "metadata": {
        "colab": {
          "base_uri": "https://localhost:8080/"
        },
        "id": "kCa4ZiYhC5wl",
        "outputId": "ad828a72-e990-45e8-c5b4-cd094e091dbc"
      },
      "execution_count": 15,
      "outputs": [
        {
          "output_type": "stream",
          "name": "stdout",
          "text": [
            "及格人數： 2\n"
          ]
        }
      ]
    }
  ]
}